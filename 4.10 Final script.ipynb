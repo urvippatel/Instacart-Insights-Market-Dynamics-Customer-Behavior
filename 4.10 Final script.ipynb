{
 "cells": [
  {
   "cell_type": "markdown",
   "id": "56c60085-410d-4df5-a4ed-6f52e29c9c13",
   "metadata": {},
   "source": [
    "CONTENT\n",
    "\n",
    "A. Importing libraries\n",
    "B. Importing dataframe\n",
    "\n",
    "TASK10 - PART 1\n",
    "\n",
    "Question 2. Addressing security implications\n",
    "\n",
    "Question 3. Creating a regional segmentation of the data\n",
    "\n",
    "Question 4. Creating an exclusion flag for low-activity customers\n",
    "\n",
    "Question 5. Creating customer profiling (based on age, income, goods in department_id, and number of dependents)\n",
    "\n",
    "Question 6. Creating visualizations\n",
    "\n",
    "Question 7. Aggregating the max, mean, and min variables on a customer-profile level\n",
    "\n",
    "Question 8. Comparing customer profiles with regions and departments\n",
    "\n",
    "Question 9. More charts/Viz\n",
    "\n",
    "C. Exporting Data"
   ]
  },
  {
   "cell_type": "markdown",
   "id": "c44c0ae8-2120-46cc-bb53-e22a7de078a6",
   "metadata": {},
   "source": [
    "# Importing libraries"
   ]
  },
  {
   "cell_type": "code",
   "execution_count": 2,
   "id": "8e89f481-7c9a-466e-831c-952edf0f6d58",
   "metadata": {},
   "outputs": [],
   "source": [
    "import pandas as pd\n",
    "import numpy as np\n",
    "import os\n",
    "import matplotlib.pyplot as plt\n",
    "import seaborn as sns\n",
    "import scipy"
   ]
  },
  {
   "cell_type": "markdown",
   "id": "45d61294-880b-4dc3-8bd0-e30c75acdd5d",
   "metadata": {},
   "source": [
    "# Importing dataframe"
   ]
  },
  {
   "cell_type": "code",
   "execution_count": 3,
   "id": "d4d538a8-ed0d-40e3-becd-9fb73a583938",
   "metadata": {},
   "outputs": [],
   "source": [
    "# Creating path\n",
    "path=r'/Users/urvi/Desktop/Instacart Basket Analysis/'"
   ]
  },
  {
   "cell_type": "code",
   "execution_count": 4,
   "id": "e04018ee-7c34-49b4-ba3d-ba8b02132ad0",
   "metadata": {},
   "outputs": [],
   "source": [
    "# Importing dataframe\n",
    "df_final= pd.read_pickle(os.path.join(path,'02 Data', 'Prepared Data','orders_products_all.pkl'))"
   ]
  },
  {
   "cell_type": "code",
   "execution_count": 5,
   "id": "9c78bd0a-1aa1-4258-8c1f-7d4240888b53",
   "metadata": {},
   "outputs": [
    {
     "data": {
      "text/html": [
       "<div>\n",
       "<style scoped>\n",
       "    .dataframe tbody tr th:only-of-type {\n",
       "        vertical-align: middle;\n",
       "    }\n",
       "\n",
       "    .dataframe tbody tr th {\n",
       "        vertical-align: top;\n",
       "    }\n",
       "\n",
       "    .dataframe thead th {\n",
       "        text-align: right;\n",
       "    }\n",
       "</style>\n",
       "<table border=\"1\" class=\"dataframe\">\n",
       "  <thead>\n",
       "    <tr style=\"text-align: right;\">\n",
       "      <th></th>\n",
       "      <th>product_id</th>\n",
       "      <th>product_name</th>\n",
       "      <th>aisle_id</th>\n",
       "      <th>department_id</th>\n",
       "      <th>prices</th>\n",
       "      <th>order_id</th>\n",
       "      <th>user_id</th>\n",
       "      <th>order_number</th>\n",
       "      <th>orders_day_of_week</th>\n",
       "      <th>order_hour_of_day</th>\n",
       "      <th>...</th>\n",
       "      <th>order frequency flag</th>\n",
       "      <th>First Name</th>\n",
       "      <th>Last Name</th>\n",
       "      <th>Gender</th>\n",
       "      <th>State</th>\n",
       "      <th>Age</th>\n",
       "      <th>date_joined</th>\n",
       "      <th>Number of Dependents</th>\n",
       "      <th>Familial Status</th>\n",
       "      <th>income</th>\n",
       "    </tr>\n",
       "  </thead>\n",
       "  <tbody>\n",
       "    <tr>\n",
       "      <th>0</th>\n",
       "      <td>1</td>\n",
       "      <td>Chocolate Sandwich Cookies</td>\n",
       "      <td>61</td>\n",
       "      <td>19</td>\n",
       "      <td>5.8</td>\n",
       "      <td>3139998</td>\n",
       "      <td>138</td>\n",
       "      <td>28</td>\n",
       "      <td>6</td>\n",
       "      <td>11</td>\n",
       "      <td>...</td>\n",
       "      <td>Frequent customer</td>\n",
       "      <td>Charles</td>\n",
       "      <td>Cox</td>\n",
       "      <td>Male</td>\n",
       "      <td>Minnesota</td>\n",
       "      <td>81</td>\n",
       "      <td>8/1/2019</td>\n",
       "      <td>1</td>\n",
       "      <td>married</td>\n",
       "      <td>49620</td>\n",
       "    </tr>\n",
       "    <tr>\n",
       "      <th>1</th>\n",
       "      <td>1</td>\n",
       "      <td>Chocolate Sandwich Cookies</td>\n",
       "      <td>61</td>\n",
       "      <td>19</td>\n",
       "      <td>5.8</td>\n",
       "      <td>1977647</td>\n",
       "      <td>138</td>\n",
       "      <td>30</td>\n",
       "      <td>6</td>\n",
       "      <td>17</td>\n",
       "      <td>...</td>\n",
       "      <td>Frequent customer</td>\n",
       "      <td>Charles</td>\n",
       "      <td>Cox</td>\n",
       "      <td>Male</td>\n",
       "      <td>Minnesota</td>\n",
       "      <td>81</td>\n",
       "      <td>8/1/2019</td>\n",
       "      <td>1</td>\n",
       "      <td>married</td>\n",
       "      <td>49620</td>\n",
       "    </tr>\n",
       "    <tr>\n",
       "      <th>2</th>\n",
       "      <td>907</td>\n",
       "      <td>Premium Sliced Bacon</td>\n",
       "      <td>106</td>\n",
       "      <td>12</td>\n",
       "      <td>20.0</td>\n",
       "      <td>3160996</td>\n",
       "      <td>138</td>\n",
       "      <td>1</td>\n",
       "      <td>5</td>\n",
       "      <td>13</td>\n",
       "      <td>...</td>\n",
       "      <td>Frequent customer</td>\n",
       "      <td>Charles</td>\n",
       "      <td>Cox</td>\n",
       "      <td>Male</td>\n",
       "      <td>Minnesota</td>\n",
       "      <td>81</td>\n",
       "      <td>8/1/2019</td>\n",
       "      <td>1</td>\n",
       "      <td>married</td>\n",
       "      <td>49620</td>\n",
       "    </tr>\n",
       "    <tr>\n",
       "      <th>3</th>\n",
       "      <td>907</td>\n",
       "      <td>Premium Sliced Bacon</td>\n",
       "      <td>106</td>\n",
       "      <td>12</td>\n",
       "      <td>20.0</td>\n",
       "      <td>2254091</td>\n",
       "      <td>138</td>\n",
       "      <td>10</td>\n",
       "      <td>5</td>\n",
       "      <td>14</td>\n",
       "      <td>...</td>\n",
       "      <td>Frequent customer</td>\n",
       "      <td>Charles</td>\n",
       "      <td>Cox</td>\n",
       "      <td>Male</td>\n",
       "      <td>Minnesota</td>\n",
       "      <td>81</td>\n",
       "      <td>8/1/2019</td>\n",
       "      <td>1</td>\n",
       "      <td>married</td>\n",
       "      <td>49620</td>\n",
       "    </tr>\n",
       "    <tr>\n",
       "      <th>4</th>\n",
       "      <td>1000</td>\n",
       "      <td>Apricots</td>\n",
       "      <td>18</td>\n",
       "      <td>10</td>\n",
       "      <td>12.9</td>\n",
       "      <td>505689</td>\n",
       "      <td>138</td>\n",
       "      <td>9</td>\n",
       "      <td>6</td>\n",
       "      <td>12</td>\n",
       "      <td>...</td>\n",
       "      <td>Frequent customer</td>\n",
       "      <td>Charles</td>\n",
       "      <td>Cox</td>\n",
       "      <td>Male</td>\n",
       "      <td>Minnesota</td>\n",
       "      <td>81</td>\n",
       "      <td>8/1/2019</td>\n",
       "      <td>1</td>\n",
       "      <td>married</td>\n",
       "      <td>49620</td>\n",
       "    </tr>\n",
       "  </tbody>\n",
       "</table>\n",
       "<p>5 rows × 33 columns</p>\n",
       "</div>"
      ],
      "text/plain": [
       "   product_id                product_name  aisle_id  department_id  prices  \\\n",
       "0           1  Chocolate Sandwich Cookies        61             19     5.8   \n",
       "1           1  Chocolate Sandwich Cookies        61             19     5.8   \n",
       "2         907        Premium Sliced Bacon       106             12    20.0   \n",
       "3         907        Premium Sliced Bacon       106             12    20.0   \n",
       "4        1000                    Apricots        18             10    12.9   \n",
       "\n",
       "  order_id user_id  order_number  orders_day_of_week  order_hour_of_day  ...  \\\n",
       "0  3139998     138            28                   6                 11  ...   \n",
       "1  1977647     138            30                   6                 17  ...   \n",
       "2  3160996     138             1                   5                 13  ...   \n",
       "3  2254091     138            10                   5                 14  ...   \n",
       "4   505689     138             9                   6                 12  ...   \n",
       "\n",
       "   order frequency flag  First Name  Last Name  Gender      State Age  \\\n",
       "0     Frequent customer     Charles        Cox    Male  Minnesota  81   \n",
       "1     Frequent customer     Charles        Cox    Male  Minnesota  81   \n",
       "2     Frequent customer     Charles        Cox    Male  Minnesota  81   \n",
       "3     Frequent customer     Charles        Cox    Male  Minnesota  81   \n",
       "4     Frequent customer     Charles        Cox    Male  Minnesota  81   \n",
       "\n",
       "  date_joined Number of Dependents  Familial Status income  \n",
       "0    8/1/2019                    1          married  49620  \n",
       "1    8/1/2019                    1          married  49620  \n",
       "2    8/1/2019                    1          married  49620  \n",
       "3    8/1/2019                    1          married  49620  \n",
       "4    8/1/2019                    1          married  49620  \n",
       "\n",
       "[5 rows x 33 columns]"
      ]
     },
     "execution_count": 5,
     "metadata": {},
     "output_type": "execute_result"
    }
   ],
   "source": [
    "# Checking the dataset\n",
    "df_final.head()"
   ]
  },
  {
   "cell_type": "code",
   "execution_count": 6,
   "id": "96066e87-04d1-4bb7-8d25-27f453c8e330",
   "metadata": {},
   "outputs": [
    {
     "data": {
      "text/plain": [
       "['product_id',\n",
       " 'product_name',\n",
       " 'aisle_id',\n",
       " 'department_id',\n",
       " 'prices',\n",
       " 'order_id',\n",
       " 'user_id',\n",
       " 'order_number',\n",
       " 'orders_day_of_week',\n",
       " 'order_hour_of_day',\n",
       " 'days_since_prior_order',\n",
       " 'first_order',\n",
       " 'add_to_cart_order',\n",
       " 'reordered',\n",
       " 'price_range_loc',\n",
       " 'busiest_day',\n",
       " 'busiest_days',\n",
       " 'busiest_period_of_day',\n",
       " 'max_order',\n",
       " 'loyalty_flag',\n",
       " 'average spent',\n",
       " 'spending flag',\n",
       " 'regularity',\n",
       " 'order frequency flag',\n",
       " 'First Name',\n",
       " 'Last Name',\n",
       " 'Gender',\n",
       " 'State',\n",
       " 'Age',\n",
       " 'date_joined',\n",
       " 'Number of Dependents',\n",
       " 'Familial Status',\n",
       " 'income']"
      ]
     },
     "execution_count": 6,
     "metadata": {},
     "output_type": "execute_result"
    }
   ],
   "source": [
    "# Checking the columns\n",
    "df_final.columns.values.tolist()"
   ]
  },
  {
   "cell_type": "markdown",
   "id": "6cc655ec-91b7-418e-8aa6-fc5538827da4",
   "metadata": {},
   "source": [
    "# Task Exercises"
   ]
  },
  {
   "cell_type": "markdown",
   "id": "b0ea75fa-8bd5-4312-8738-f611f5bb688d",
   "metadata": {},
   "source": [
    "### Question 2\n",
    "\n",
    "Consider any security implications that might exist for this new data. You’ll need to address any PII data in the data before continuing your analysis."
   ]
  },
  {
   "cell_type": "markdown",
   "id": "bacea164-a0e0-4561-9f57-c31546578e39",
   "metadata": {},
   "source": [
    "The dataframe \"customers\" did not include the PII (Personally Identifiable Information) data, specifically the columns \"first_name\" and \"surname,\" in the final merged dataframe. As a result, potential security concerns were mitigated"
   ]
  },
  {
   "cell_type": "markdown",
   "id": "88386775-3e6b-4a46-9b7c-b4bf174dcb86",
   "metadata": {},
   "source": [
    "### Question 3\n",
    "\n",
    "The Instacart officers are interested in comparing customer behavior in different geographic areas. Create a regional segmentation of the data. You’ll need to create a “Region” column based on the “State” column from your customers data set."
   ]
  },
  {
   "cell_type": "code",
   "execution_count": 35,
   "id": "2221c9ad-c4d7-4fd9-817b-0a246f4ba9f7",
   "metadata": {},
   "outputs": [
    {
     "name": "stderr",
     "output_type": "stream",
     "text": [
      "/var/folders/fb/0vs0bt4n7g7bbt5lxwgg4ng80000gn/T/ipykernel_6016/228818702.py:3: FutureWarning: The provided callable <function max at 0x111d61080> is currently using SeriesGroupBy.max. In a future version of pandas, the provided callable will be used directly. To keep current behavior pass the string \"max\" instead.\n",
      "  df_final['regions'] = df_final.groupby(['user_id'])['State'].transform(np.max)\n"
     ]
    }
   ],
   "source": [
    "# Creating new column to place results of aggregation\n",
    "\n",
    "df_final['regions'] = df_final.groupby(['user_id'])['State'].transform(np.max)"
   ]
  },
  {
   "cell_type": "markdown",
   "id": "417b5a8f-15fc-4258-8a1f-fae6aedd17f0",
   "metadata": {},
   "source": [
    "Following the recommendation from the previous exercise, I attempted to use \".transform('mean')\" in place of \".transform(np.max)\". Unfortunately, this resulted in an error, preventing the code from executing. Consequently, I reverted to the previously utilized code."
   ]
  },
  {
   "cell_type": "code",
   "execution_count": 36,
   "id": "a59c8d06-34f3-4bda-ae20-058dee25a14a",
   "metadata": {},
   "outputs": [
    {
     "data": {
      "text/html": [
       "<div>\n",
       "<style scoped>\n",
       "    .dataframe tbody tr th:only-of-type {\n",
       "        vertical-align: middle;\n",
       "    }\n",
       "\n",
       "    .dataframe tbody tr th {\n",
       "        vertical-align: top;\n",
       "    }\n",
       "\n",
       "    .dataframe thead th {\n",
       "        text-align: right;\n",
       "    }\n",
       "</style>\n",
       "<table border=\"1\" class=\"dataframe\">\n",
       "  <thead>\n",
       "    <tr style=\"text-align: right;\">\n",
       "      <th></th>\n",
       "      <th>product_id</th>\n",
       "      <th>product_name</th>\n",
       "      <th>aisle_id</th>\n",
       "      <th>department_id</th>\n",
       "      <th>prices</th>\n",
       "      <th>order_id</th>\n",
       "      <th>user_id</th>\n",
       "      <th>order_number</th>\n",
       "      <th>orders_day_of_week</th>\n",
       "      <th>order_hour_of_day</th>\n",
       "      <th>...</th>\n",
       "      <th>Last Name</th>\n",
       "      <th>Gender</th>\n",
       "      <th>State</th>\n",
       "      <th>Age</th>\n",
       "      <th>date_joined</th>\n",
       "      <th>Number of Dependents</th>\n",
       "      <th>Familial Status</th>\n",
       "      <th>income</th>\n",
       "      <th>regions</th>\n",
       "      <th>average_spending</th>\n",
       "    </tr>\n",
       "  </thead>\n",
       "  <tbody>\n",
       "    <tr>\n",
       "      <th>0</th>\n",
       "      <td>1</td>\n",
       "      <td>Chocolate Sandwich Cookies</td>\n",
       "      <td>61</td>\n",
       "      <td>19</td>\n",
       "      <td>5.8</td>\n",
       "      <td>3139998</td>\n",
       "      <td>138</td>\n",
       "      <td>28</td>\n",
       "      <td>6</td>\n",
       "      <td>11</td>\n",
       "      <td>...</td>\n",
       "      <td>Cox</td>\n",
       "      <td>Male</td>\n",
       "      <td>Minnesota</td>\n",
       "      <td>81</td>\n",
       "      <td>8/1/2019</td>\n",
       "      <td>1</td>\n",
       "      <td>married</td>\n",
       "      <td>49620</td>\n",
       "      <td>Minnesota</td>\n",
       "      <td>6.935811</td>\n",
       "    </tr>\n",
       "    <tr>\n",
       "      <th>1</th>\n",
       "      <td>1</td>\n",
       "      <td>Chocolate Sandwich Cookies</td>\n",
       "      <td>61</td>\n",
       "      <td>19</td>\n",
       "      <td>5.8</td>\n",
       "      <td>1977647</td>\n",
       "      <td>138</td>\n",
       "      <td>30</td>\n",
       "      <td>6</td>\n",
       "      <td>17</td>\n",
       "      <td>...</td>\n",
       "      <td>Cox</td>\n",
       "      <td>Male</td>\n",
       "      <td>Minnesota</td>\n",
       "      <td>81</td>\n",
       "      <td>8/1/2019</td>\n",
       "      <td>1</td>\n",
       "      <td>married</td>\n",
       "      <td>49620</td>\n",
       "      <td>Minnesota</td>\n",
       "      <td>6.935811</td>\n",
       "    </tr>\n",
       "    <tr>\n",
       "      <th>2</th>\n",
       "      <td>907</td>\n",
       "      <td>Premium Sliced Bacon</td>\n",
       "      <td>106</td>\n",
       "      <td>12</td>\n",
       "      <td>20.0</td>\n",
       "      <td>3160996</td>\n",
       "      <td>138</td>\n",
       "      <td>1</td>\n",
       "      <td>5</td>\n",
       "      <td>13</td>\n",
       "      <td>...</td>\n",
       "      <td>Cox</td>\n",
       "      <td>Male</td>\n",
       "      <td>Minnesota</td>\n",
       "      <td>81</td>\n",
       "      <td>8/1/2019</td>\n",
       "      <td>1</td>\n",
       "      <td>married</td>\n",
       "      <td>49620</td>\n",
       "      <td>Minnesota</td>\n",
       "      <td>6.935811</td>\n",
       "    </tr>\n",
       "    <tr>\n",
       "      <th>3</th>\n",
       "      <td>907</td>\n",
       "      <td>Premium Sliced Bacon</td>\n",
       "      <td>106</td>\n",
       "      <td>12</td>\n",
       "      <td>20.0</td>\n",
       "      <td>2254091</td>\n",
       "      <td>138</td>\n",
       "      <td>10</td>\n",
       "      <td>5</td>\n",
       "      <td>14</td>\n",
       "      <td>...</td>\n",
       "      <td>Cox</td>\n",
       "      <td>Male</td>\n",
       "      <td>Minnesota</td>\n",
       "      <td>81</td>\n",
       "      <td>8/1/2019</td>\n",
       "      <td>1</td>\n",
       "      <td>married</td>\n",
       "      <td>49620</td>\n",
       "      <td>Minnesota</td>\n",
       "      <td>6.935811</td>\n",
       "    </tr>\n",
       "    <tr>\n",
       "      <th>4</th>\n",
       "      <td>1000</td>\n",
       "      <td>Apricots</td>\n",
       "      <td>18</td>\n",
       "      <td>10</td>\n",
       "      <td>12.9</td>\n",
       "      <td>505689</td>\n",
       "      <td>138</td>\n",
       "      <td>9</td>\n",
       "      <td>6</td>\n",
       "      <td>12</td>\n",
       "      <td>...</td>\n",
       "      <td>Cox</td>\n",
       "      <td>Male</td>\n",
       "      <td>Minnesota</td>\n",
       "      <td>81</td>\n",
       "      <td>8/1/2019</td>\n",
       "      <td>1</td>\n",
       "      <td>married</td>\n",
       "      <td>49620</td>\n",
       "      <td>Minnesota</td>\n",
       "      <td>6.935811</td>\n",
       "    </tr>\n",
       "  </tbody>\n",
       "</table>\n",
       "<p>5 rows × 35 columns</p>\n",
       "</div>"
      ],
      "text/plain": [
       "   product_id                product_name  aisle_id  department_id  prices  \\\n",
       "0           1  Chocolate Sandwich Cookies        61             19     5.8   \n",
       "1           1  Chocolate Sandwich Cookies        61             19     5.8   \n",
       "2         907        Premium Sliced Bacon       106             12    20.0   \n",
       "3         907        Premium Sliced Bacon       106             12    20.0   \n",
       "4        1000                    Apricots        18             10    12.9   \n",
       "\n",
       "  order_id user_id  order_number  orders_day_of_week  order_hour_of_day  ...  \\\n",
       "0  3139998     138            28                   6                 11  ...   \n",
       "1  1977647     138            30                   6                 17  ...   \n",
       "2  3160996     138             1                   5                 13  ...   \n",
       "3  2254091     138            10                   5                 14  ...   \n",
       "4   505689     138             9                   6                 12  ...   \n",
       "\n",
       "   Last Name  Gender      State  Age date_joined Number of Dependents  \\\n",
       "0        Cox    Male  Minnesota   81    8/1/2019                    1   \n",
       "1        Cox    Male  Minnesota   81    8/1/2019                    1   \n",
       "2        Cox    Male  Minnesota   81    8/1/2019                    1   \n",
       "3        Cox    Male  Minnesota   81    8/1/2019                    1   \n",
       "4        Cox    Male  Minnesota   81    8/1/2019                    1   \n",
       "\n",
       "  Familial Status income    regions average_spending  \n",
       "0         married  49620  Minnesota         6.935811  \n",
       "1         married  49620  Minnesota         6.935811  \n",
       "2         married  49620  Minnesota         6.935811  \n",
       "3         married  49620  Minnesota         6.935811  \n",
       "4         married  49620  Minnesota         6.935811  \n",
       "\n",
       "[5 rows x 35 columns]"
      ]
     },
     "execution_count": 36,
     "metadata": {},
     "output_type": "execute_result"
    }
   ],
   "source": [
    "df_final.head()"
   ]
  },
  {
   "cell_type": "code",
   "execution_count": 42,
   "id": "06ea0c01-4421-4914-8a21-ede92f53df95",
   "metadata": {},
   "outputs": [],
   "source": [
    "# Creating list for Northeast\n",
    "\n",
    "Northeast = { 'Maine','New Hampshire','Vermont','Massachusetts','Rhode Island','Connecticut', 'New York', 'Pennsylvania', 'New Jersey'}       "
   ]
  },
  {
   "cell_type": "code",
   "execution_count": 43,
   "id": "ac685798-671d-47c7-bcc4-965c295e3c6c",
   "metadata": {},
   "outputs": [],
   "source": [
    "# Assigning Northeast\n",
    "\n",
    "df_final.loc[df_final['State'].isin(Northeast), 'regions'] = 'Northeast'"
   ]
  },
  {
   "cell_type": "code",
   "execution_count": 44,
   "id": "e0469699-a61b-4eab-9fe7-a35462e7bdc9",
   "metadata": {},
   "outputs": [],
   "source": [
    "# Creating list for Midwest\n",
    "\n",
    "Midwest = {'Wisconsin', 'Michigan', 'Illinois', 'Indiana', 'Ohio', 'North Dakota', 'South Dakota', 'Nebraska', 'Kansas', 'Minnesota', 'Iowa', 'Missouri'}"
   ]
  },
  {
   "cell_type": "code",
   "execution_count": 45,
   "id": "38d0afed-6073-4385-b576-d8f5b9cd368a",
   "metadata": {},
   "outputs": [],
   "source": [
    "# Assigning Midwest\n",
    "\n",
    "df_final.loc[df_final['State'].isin(Midwest), 'regions'] = 'Midwest'"
   ]
  },
  {
   "cell_type": "code",
   "execution_count": 46,
   "id": "e2f82025-ea4f-40e3-93c1-4ae330259273",
   "metadata": {},
   "outputs": [],
   "source": [
    "# Creating list for South\n",
    "\n",
    "South = {'Delaware', 'Maryland', 'District of Columbia', 'Virginia', 'West Virginia', 'North Carolina', 'South Carolina', 'Georgia', 'Florida', 'Kentucky', 'Tennessee', 'Mississippi', 'Alabama', 'Oklahoma', 'Texas', 'Arkansas', 'Louisiana'}"
   ]
  },
  {
   "cell_type": "code",
   "execution_count": 47,
   "id": "ad135a85-25cb-4a57-a4cb-a968cfcb73da",
   "metadata": {},
   "outputs": [],
   "source": [
    "# Assigning South\n",
    "\n",
    "df_final.loc[df_final['State'].isin(South), 'regions'] = 'South'"
   ]
  },
  {
   "cell_type": "code",
   "execution_count": 48,
   "id": "c5333be5-9d73-4b4d-a4f2-45bcbe1a4712",
   "metadata": {},
   "outputs": [],
   "source": [
    "# Creating list for West\n",
    "\n",
    "West = {'Idaho', 'Montana', 'Wyoming', 'Nevada', 'Utah', 'Colorado', 'Arizona', 'New Mexico', 'Alaska', 'Washington', 'Oregon', 'California', 'Hawaii'}"
   ]
  },
  {
   "cell_type": "code",
   "execution_count": 49,
   "id": "3a18a990-7680-4889-875a-4088e6efb146",
   "metadata": {},
   "outputs": [],
   "source": [
    "# Assigning West\n",
    "\n",
    "df_final.loc[df_final['State'].isin(West), 'regions'] = 'West'"
   ]
  },
  {
   "cell_type": "code",
   "execution_count": 50,
   "id": "0300a1e7-1056-40c2-8ecc-059ad39a30a8",
   "metadata": {},
   "outputs": [
    {
     "data": {
      "text/html": [
       "<div>\n",
       "<style scoped>\n",
       "    .dataframe tbody tr th:only-of-type {\n",
       "        vertical-align: middle;\n",
       "    }\n",
       "\n",
       "    .dataframe tbody tr th {\n",
       "        vertical-align: top;\n",
       "    }\n",
       "\n",
       "    .dataframe thead th {\n",
       "        text-align: right;\n",
       "    }\n",
       "</style>\n",
       "<table border=\"1\" class=\"dataframe\">\n",
       "  <thead>\n",
       "    <tr style=\"text-align: right;\">\n",
       "      <th></th>\n",
       "      <th>product_id</th>\n",
       "      <th>product_name</th>\n",
       "      <th>aisle_id</th>\n",
       "      <th>department_id</th>\n",
       "      <th>prices</th>\n",
       "      <th>order_id</th>\n",
       "      <th>user_id</th>\n",
       "      <th>order_number</th>\n",
       "      <th>orders_day_of_week</th>\n",
       "      <th>order_hour_of_day</th>\n",
       "      <th>...</th>\n",
       "      <th>Last Name</th>\n",
       "      <th>Gender</th>\n",
       "      <th>State</th>\n",
       "      <th>Age</th>\n",
       "      <th>date_joined</th>\n",
       "      <th>Number of Dependents</th>\n",
       "      <th>Familial Status</th>\n",
       "      <th>income</th>\n",
       "      <th>regions</th>\n",
       "      <th>average_spending</th>\n",
       "    </tr>\n",
       "  </thead>\n",
       "  <tbody>\n",
       "    <tr>\n",
       "      <th>0</th>\n",
       "      <td>1</td>\n",
       "      <td>Chocolate Sandwich Cookies</td>\n",
       "      <td>61</td>\n",
       "      <td>19</td>\n",
       "      <td>5.8</td>\n",
       "      <td>3139998</td>\n",
       "      <td>138</td>\n",
       "      <td>28</td>\n",
       "      <td>6</td>\n",
       "      <td>11</td>\n",
       "      <td>...</td>\n",
       "      <td>Cox</td>\n",
       "      <td>Male</td>\n",
       "      <td>Minnesota</td>\n",
       "      <td>81</td>\n",
       "      <td>8/1/2019</td>\n",
       "      <td>1</td>\n",
       "      <td>married</td>\n",
       "      <td>49620</td>\n",
       "      <td>Midwest</td>\n",
       "      <td>6.935811</td>\n",
       "    </tr>\n",
       "    <tr>\n",
       "      <th>1</th>\n",
       "      <td>1</td>\n",
       "      <td>Chocolate Sandwich Cookies</td>\n",
       "      <td>61</td>\n",
       "      <td>19</td>\n",
       "      <td>5.8</td>\n",
       "      <td>1977647</td>\n",
       "      <td>138</td>\n",
       "      <td>30</td>\n",
       "      <td>6</td>\n",
       "      <td>17</td>\n",
       "      <td>...</td>\n",
       "      <td>Cox</td>\n",
       "      <td>Male</td>\n",
       "      <td>Minnesota</td>\n",
       "      <td>81</td>\n",
       "      <td>8/1/2019</td>\n",
       "      <td>1</td>\n",
       "      <td>married</td>\n",
       "      <td>49620</td>\n",
       "      <td>Midwest</td>\n",
       "      <td>6.935811</td>\n",
       "    </tr>\n",
       "    <tr>\n",
       "      <th>2</th>\n",
       "      <td>907</td>\n",
       "      <td>Premium Sliced Bacon</td>\n",
       "      <td>106</td>\n",
       "      <td>12</td>\n",
       "      <td>20.0</td>\n",
       "      <td>3160996</td>\n",
       "      <td>138</td>\n",
       "      <td>1</td>\n",
       "      <td>5</td>\n",
       "      <td>13</td>\n",
       "      <td>...</td>\n",
       "      <td>Cox</td>\n",
       "      <td>Male</td>\n",
       "      <td>Minnesota</td>\n",
       "      <td>81</td>\n",
       "      <td>8/1/2019</td>\n",
       "      <td>1</td>\n",
       "      <td>married</td>\n",
       "      <td>49620</td>\n",
       "      <td>Midwest</td>\n",
       "      <td>6.935811</td>\n",
       "    </tr>\n",
       "    <tr>\n",
       "      <th>3</th>\n",
       "      <td>907</td>\n",
       "      <td>Premium Sliced Bacon</td>\n",
       "      <td>106</td>\n",
       "      <td>12</td>\n",
       "      <td>20.0</td>\n",
       "      <td>2254091</td>\n",
       "      <td>138</td>\n",
       "      <td>10</td>\n",
       "      <td>5</td>\n",
       "      <td>14</td>\n",
       "      <td>...</td>\n",
       "      <td>Cox</td>\n",
       "      <td>Male</td>\n",
       "      <td>Minnesota</td>\n",
       "      <td>81</td>\n",
       "      <td>8/1/2019</td>\n",
       "      <td>1</td>\n",
       "      <td>married</td>\n",
       "      <td>49620</td>\n",
       "      <td>Midwest</td>\n",
       "      <td>6.935811</td>\n",
       "    </tr>\n",
       "    <tr>\n",
       "      <th>4</th>\n",
       "      <td>1000</td>\n",
       "      <td>Apricots</td>\n",
       "      <td>18</td>\n",
       "      <td>10</td>\n",
       "      <td>12.9</td>\n",
       "      <td>505689</td>\n",
       "      <td>138</td>\n",
       "      <td>9</td>\n",
       "      <td>6</td>\n",
       "      <td>12</td>\n",
       "      <td>...</td>\n",
       "      <td>Cox</td>\n",
       "      <td>Male</td>\n",
       "      <td>Minnesota</td>\n",
       "      <td>81</td>\n",
       "      <td>8/1/2019</td>\n",
       "      <td>1</td>\n",
       "      <td>married</td>\n",
       "      <td>49620</td>\n",
       "      <td>Midwest</td>\n",
       "      <td>6.935811</td>\n",
       "    </tr>\n",
       "  </tbody>\n",
       "</table>\n",
       "<p>5 rows × 35 columns</p>\n",
       "</div>"
      ],
      "text/plain": [
       "   product_id                product_name  aisle_id  department_id  prices  \\\n",
       "0           1  Chocolate Sandwich Cookies        61             19     5.8   \n",
       "1           1  Chocolate Sandwich Cookies        61             19     5.8   \n",
       "2         907        Premium Sliced Bacon       106             12    20.0   \n",
       "3         907        Premium Sliced Bacon       106             12    20.0   \n",
       "4        1000                    Apricots        18             10    12.9   \n",
       "\n",
       "  order_id user_id  order_number  orders_day_of_week  order_hour_of_day  ...  \\\n",
       "0  3139998     138            28                   6                 11  ...   \n",
       "1  1977647     138            30                   6                 17  ...   \n",
       "2  3160996     138             1                   5                 13  ...   \n",
       "3  2254091     138            10                   5                 14  ...   \n",
       "4   505689     138             9                   6                 12  ...   \n",
       "\n",
       "   Last Name  Gender      State  Age date_joined Number of Dependents  \\\n",
       "0        Cox    Male  Minnesota   81    8/1/2019                    1   \n",
       "1        Cox    Male  Minnesota   81    8/1/2019                    1   \n",
       "2        Cox    Male  Minnesota   81    8/1/2019                    1   \n",
       "3        Cox    Male  Minnesota   81    8/1/2019                    1   \n",
       "4        Cox    Male  Minnesota   81    8/1/2019                    1   \n",
       "\n",
       "  Familial Status income  regions average_spending  \n",
       "0         married  49620  Midwest         6.935811  \n",
       "1         married  49620  Midwest         6.935811  \n",
       "2         married  49620  Midwest         6.935811  \n",
       "3         married  49620  Midwest         6.935811  \n",
       "4         married  49620  Midwest         6.935811  \n",
       "\n",
       "[5 rows x 35 columns]"
      ]
     },
     "execution_count": 50,
     "metadata": {},
     "output_type": "execute_result"
    }
   ],
   "source": [
    "df_final.head()"
   ]
  },
  {
   "cell_type": "code",
   "execution_count": 51,
   "id": "e1a40094-1cea-43c1-be7a-f41c10894c4a",
   "metadata": {},
   "outputs": [
    {
     "name": "stderr",
     "output_type": "stream",
     "text": [
      "/var/folders/fb/0vs0bt4n7g7bbt5lxwgg4ng80000gn/T/ipykernel_6016/3347799908.py:3: FutureWarning: The provided callable <function mean at 0x111d61a80> is currently using SeriesGroupBy.mean. In a future version of pandas, the provided callable will be used directly. To keep current behavior pass the string \"mean\" instead.\n",
      "  df_final['average_spending'] = df_final.groupby(['user_id'])['prices'].transform(np.mean)\n"
     ]
    }
   ],
   "source": [
    "# Creating a new spending column to place results of aggregation\n",
    "\n",
    "df_final['average_spending'] = df_final.groupby(['user_id'])['prices'].transform(np.mean)"
   ]
  },
  {
   "cell_type": "code",
   "execution_count": 53,
   "id": "814c02a7-d4ee-4624-bb80-bdb77bc8bab8",
   "metadata": {
    "scrolled": true
   },
   "outputs": [],
   "source": [
    "# Creating subset to calculate the frequency\n",
    "\n",
    "df_subset_regions_spending = df_final[['regions', 'spending flag']]"
   ]
  },
  {
   "cell_type": "code",
   "execution_count": 54,
   "id": "847d9026-9945-4091-8b7f-00fc74c143f0",
   "metadata": {},
   "outputs": [
    {
     "data": {
      "text/html": [
       "<div>\n",
       "<style scoped>\n",
       "    .dataframe tbody tr th:only-of-type {\n",
       "        vertical-align: middle;\n",
       "    }\n",
       "\n",
       "    .dataframe tbody tr th {\n",
       "        vertical-align: top;\n",
       "    }\n",
       "\n",
       "    .dataframe thead th {\n",
       "        text-align: right;\n",
       "    }\n",
       "</style>\n",
       "<table border=\"1\" class=\"dataframe\">\n",
       "  <thead>\n",
       "    <tr style=\"text-align: right;\">\n",
       "      <th></th>\n",
       "      <th>regions</th>\n",
       "      <th>spending flag</th>\n",
       "    </tr>\n",
       "  </thead>\n",
       "  <tbody>\n",
       "    <tr>\n",
       "      <th>0</th>\n",
       "      <td>Midwest</td>\n",
       "      <td>Low spender</td>\n",
       "    </tr>\n",
       "    <tr>\n",
       "      <th>1</th>\n",
       "      <td>Midwest</td>\n",
       "      <td>Low spender</td>\n",
       "    </tr>\n",
       "    <tr>\n",
       "      <th>2</th>\n",
       "      <td>Midwest</td>\n",
       "      <td>Low spender</td>\n",
       "    </tr>\n",
       "    <tr>\n",
       "      <th>3</th>\n",
       "      <td>Midwest</td>\n",
       "      <td>Low spender</td>\n",
       "    </tr>\n",
       "    <tr>\n",
       "      <th>4</th>\n",
       "      <td>Midwest</td>\n",
       "      <td>Low spender</td>\n",
       "    </tr>\n",
       "  </tbody>\n",
       "</table>\n",
       "</div>"
      ],
      "text/plain": [
       "   regions spending flag\n",
       "0  Midwest   Low spender\n",
       "1  Midwest   Low spender\n",
       "2  Midwest   Low spender\n",
       "3  Midwest   Low spender\n",
       "4  Midwest   Low spender"
      ]
     },
     "execution_count": 54,
     "metadata": {},
     "output_type": "execute_result"
    }
   ],
   "source": [
    "df_subset_regions_spending.head()"
   ]
  },
  {
   "cell_type": "code",
   "execution_count": 55,
   "id": "652867cb-8774-41a2-b6c4-b4e19bcf995b",
   "metadata": {},
   "outputs": [],
   "source": [
    "# Calculating the frequency \n",
    "result = df_final.groupby('regions')['spending flag'].value_counts()"
   ]
  },
  {
   "cell_type": "code",
   "execution_count": 56,
   "id": "e804e3ad-4641-4d56-a14d-71bb0377e4a8",
   "metadata": {},
   "outputs": [
    {
     "data": {
      "text/plain": [
       "regions    spending flag\n",
       "Midwest    Low spender       7441350\n",
       "           High spender       155975\n",
       "Northeast  Low spender       5614511\n",
       "           High spender       108225\n",
       "South      Low spender      10582194\n",
       "           High spender       209691\n",
       "West       Low spender       8132559\n",
       "           High spender       160354\n",
       "Name: count, dtype: int64"
      ]
     },
     "execution_count": 56,
     "metadata": {},
     "output_type": "execute_result"
    }
   ],
   "source": [
    "result"
   ]
  },
  {
   "cell_type": "code",
   "execution_count": 57,
   "id": "847cf0fd-cc4e-4341-9226-dea0803f6324",
   "metadata": {},
   "outputs": [],
   "source": [
    "# Trying another way to calculate the frequency with a crosstab \n",
    "\n",
    "result2 = pd.crosstab(df_subset_regions_spending['regions'], df_subset_regions_spending['spending flag'])"
   ]
  },
  {
   "cell_type": "code",
   "execution_count": 58,
   "id": "1ea70a2b-4ac2-48b1-b173-10553d405a79",
   "metadata": {},
   "outputs": [
    {
     "data": {
      "text/html": [
       "<div>\n",
       "<style scoped>\n",
       "    .dataframe tbody tr th:only-of-type {\n",
       "        vertical-align: middle;\n",
       "    }\n",
       "\n",
       "    .dataframe tbody tr th {\n",
       "        vertical-align: top;\n",
       "    }\n",
       "\n",
       "    .dataframe thead th {\n",
       "        text-align: right;\n",
       "    }\n",
       "</style>\n",
       "<table border=\"1\" class=\"dataframe\">\n",
       "  <thead>\n",
       "    <tr style=\"text-align: right;\">\n",
       "      <th>spending flag</th>\n",
       "      <th>High spender</th>\n",
       "      <th>Low spender</th>\n",
       "    </tr>\n",
       "    <tr>\n",
       "      <th>regions</th>\n",
       "      <th></th>\n",
       "      <th></th>\n",
       "    </tr>\n",
       "  </thead>\n",
       "  <tbody>\n",
       "    <tr>\n",
       "      <th>Midwest</th>\n",
       "      <td>155975</td>\n",
       "      <td>7441350</td>\n",
       "    </tr>\n",
       "    <tr>\n",
       "      <th>Northeast</th>\n",
       "      <td>108225</td>\n",
       "      <td>5614511</td>\n",
       "    </tr>\n",
       "    <tr>\n",
       "      <th>South</th>\n",
       "      <td>209691</td>\n",
       "      <td>10582194</td>\n",
       "    </tr>\n",
       "    <tr>\n",
       "      <th>West</th>\n",
       "      <td>160354</td>\n",
       "      <td>8132559</td>\n",
       "    </tr>\n",
       "  </tbody>\n",
       "</table>\n",
       "</div>"
      ],
      "text/plain": [
       "spending flag  High spender  Low spender\n",
       "regions                                 \n",
       "Midwest              155975      7441350\n",
       "Northeast            108225      5614511\n",
       "South                209691     10582194\n",
       "West                 160354      8132559"
      ]
     },
     "execution_count": 58,
     "metadata": {},
     "output_type": "execute_result"
    }
   ],
   "source": [
    "result2"
   ]
  },
  {
   "cell_type": "markdown",
   "id": "a52f5ccc-20a4-4293-876c-00d5f3fac36f",
   "metadata": {},
   "source": [
    "It appears that when examining spending habits, there is no significant variation across different U.S. regions. The data indicates that, in all regions, the number of \"low_spender\" individuals substantially exceeds that of \"high_spender\" individuals."
   ]
  },
  {
   "cell_type": "markdown",
   "id": "6f2f0d04-83fc-4967-a0bf-876f1b7c2e69",
   "metadata": {},
   "source": [
    "### Question 4\n",
    "\n",
    "The Instacart CFO isn’t interested in customers who don’t generate much revenue for the app. Create an exclusion flag for low-activity customers (customers with less than 5 orders) and exclude them from the data."
   ]
  },
  {
   "cell_type": "code",
   "execution_count": null,
   "id": "4c5a5084-2558-41a8-982c-41813885b37a",
   "metadata": {},
   "outputs": [],
   "source": [
    "# Creating new column to place results of aggregation \n",
    "\n",
    "df_final['low_activity_flag'] = df_final.groupby(['user_id'])['max_order'].transform(np.max)"
   ]
  },
  {
   "cell_type": "code",
   "execution_count": null,
   "id": "dd3830f9-0f4a-4757-830c-0c8d581ae498",
   "metadata": {},
   "outputs": [],
   "source": [
    "# Using loc to create the conditions \n",
    "\n",
    "df_final.loc[df_final['max_order'] < 5, 'low_activity_flag'] = 'low_activity_customer'"
   ]
  },
  {
   "cell_type": "code",
   "execution_count": null,
   "id": "5781863e-5b2a-411d-8ae4-e2d7bada7cb4",
   "metadata": {},
   "outputs": [],
   "source": [
    "#U sing loc to create the conditions \n",
    "\n",
    "df_final.loc[df_final['max_order'] >= 5, 'low_activity_flag'] = 'high_activity_customer'"
   ]
  },
  {
   "cell_type": "code",
   "execution_count": null,
   "id": "e79dba32-76e4-4428-8e07-88af07bc3da1",
   "metadata": {},
   "outputs": [],
   "source": [
    "df_final.head()"
   ]
  },
  {
   "cell_type": "code",
   "execution_count": null,
   "id": "e954f7d8-a14c-4f4a-9724-962c855ead27",
   "metadata": {},
   "outputs": [],
   "source": [
    "df_filtered = df_final[df_final['low_activity_flag'] == 'high_activity_customer']"
   ]
  },
  {
   "cell_type": "code",
   "execution_count": null,
   "id": "aed01970-ea71-48f9-8776-44222fc48e8a",
   "metadata": {},
   "outputs": [],
   "source": [
    "# Creating a subset with only the high activity customers\n",
    "\n",
    "df_final_filtered = df_final[df_final['low_activity_flag'] == 'high_activity_customer']"
   ]
  },
  {
   "cell_type": "code",
   "execution_count": null,
   "id": "974bfaf5-4954-437b-853c-586e3fda3a11",
   "metadata": {},
   "outputs": [],
   "source": [
    "df_final.shape"
   ]
  },
  {
   "cell_type": "code",
   "execution_count": null,
   "id": "4adc76c7-e29d-46a5-977b-7c0b1026640c",
   "metadata": {},
   "outputs": [],
   "source": [
    "df_final_filtered.shape"
   ]
  },
  {
   "cell_type": "code",
   "execution_count": null,
   "id": "c82341ca-51e8-4187-bce0-ccce8344426a",
   "metadata": {},
   "outputs": [],
   "source": [
    "# Renaming the column\n",
    "\n",
    "df_final_filtered.rename(columns= {'low_activity_flag' : 'activity_flag'}, inplace = True)"
   ]
  },
  {
   "cell_type": "code",
   "execution_count": null,
   "id": "ea181a06-e5f1-481b-96ae-8b33ba261b7b",
   "metadata": {},
   "outputs": [],
   "source": [
    "df_final_filtered.head()"
   ]
  },
  {
   "cell_type": "code",
   "execution_count": null,
   "id": "c40afea0-b936-40c5-accc-1c414b570721",
   "metadata": {},
   "outputs": [],
   "source": [
    "#Exporting df_final_filtered\n",
    "\n",
    "df_final_filtered.to_pickle(os.path.join(path, '02 Data','Prepared Data', 'df_final_filtered.pkl'))"
   ]
  },
  {
   "cell_type": "markdown",
   "id": "4f9adfc3-6464-4ae6-a3c4-d1d19a7f5fa7",
   "metadata": {},
   "source": [
    "### Question 5\n",
    "\n",
    "The marketing and business strategy units at Instacart want to create more-relevant marketing strategies for different products and are, thus, curious about customer profiling in their database. Create a profiling variable based on age, income, certain goods in the “department_id” column, and number of dependents. You might also use the “orders_day_of_week” and “order_hour_of_day” columns if you can think of a way they would impact customer profiles."
   ]
  },
  {
   "cell_type": "code",
   "execution_count": null,
   "id": "7663b2b9-e445-430d-8688-6df8975391b8",
   "metadata": {},
   "outputs": [],
   "source": [
    "# Changing name df\n",
    "\n",
    "df_filtered = df_final_filtered"
   ]
  },
  {
   "cell_type": "code",
   "execution_count": null,
   "id": "a07019c6-523f-4a00-ad73-bb3b257456b2",
   "metadata": {},
   "outputs": [],
   "source": [
    "# Importing Dataframe (just for checking, Departments)\n",
    "\n",
    "df_departments = pd.read_csv(os.path.join(path, '02 Data', 'Prepared Data', 'departments_wrangled.csv'), index_col = False)"
   ]
  },
  {
   "cell_type": "code",
   "execution_count": null,
   "id": "1043373f-7dec-4957-8971-d2222cfe8cb4",
   "metadata": {},
   "outputs": [],
   "source": [
    "df_departments.head(22)"
   ]
  },
  {
   "cell_type": "code",
   "execution_count": null,
   "id": "42dbe49c-f63f-4be0-8e7b-b8c819f66d4e",
   "metadata": {},
   "outputs": [],
   "source": [
    "df_filtered.head()"
   ]
  },
  {
   "cell_type": "markdown",
   "id": "19ab7d84-93ab-48e7-9378-be05b91524a3",
   "metadata": {},
   "source": [
    "### PROFILE 1: Pet Parents"
   ]
  },
  {
   "cell_type": "code",
   "execution_count": null,
   "id": "d7cde2ce-44da-4ba9-821d-7c18b93fdf6d",
   "metadata": {},
   "outputs": [],
   "source": [
    "# Creating the new column for the aggregation\n",
    "\n",
    "df_filtered['pet_parent'] = df_filtered.groupby(['user_id'])['order_number'].transform(np.max)"
   ]
  },
  {
   "cell_type": "code",
   "execution_count": null,
   "id": "b7102567-6859-4c82-b626-7bd86a754945",
   "metadata": {},
   "outputs": [],
   "source": [
    "# Filtering the customers that purchased pet products\n",
    "\n",
    "df_pets = df_filtered[df_filtered['department_id'] == 8]"
   ]
  },
  {
   "cell_type": "code",
   "execution_count": null,
   "id": "7167bdb8-2e1a-4b64-94cc-f131a3608070",
   "metadata": {},
   "outputs": [],
   "source": [
    "# Creating new column for pet parents -- type False/True\n",
    "\n",
    "df_filtered['is_pet_parent'] = df_filtered['user_id'].isin(df_pets['user_id'])"
   ]
  },
  {
   "cell_type": "code",
   "execution_count": null,
   "id": "ec4a3ea4-520e-4d84-8daf-cfc4723423eb",
   "metadata": {},
   "outputs": [],
   "source": [
    "df_filtered.head()"
   ]
  },
  {
   "cell_type": "code",
   "execution_count": null,
   "id": "6558407a-dcac-4954-bcd3-fb8178667049",
   "metadata": {},
   "outputs": [],
   "source": [
    "# Creating a boxplot for pet_parent/ income\n",
    "\n",
    "box_pet_income = sns.boxplot(x='is_pet_parent', y='income', data=df_filtered)"
   ]
  },
  {
   "cell_type": "markdown",
   "id": "f7311c4f-aaaa-4eb5-9d5e-39d7c09de7e7",
   "metadata": {},
   "source": [
    "In this analysis, the aim was to contrast the income levels of pet owners against those of other clients. It was observed that pet owners generally have a marginally higher income compared to the rest of the client base. Additional investigation is warranted to understand this trend further."
   ]
  },
  {
   "cell_type": "code",
   "execution_count": null,
   "id": "fb429243-eb95-4721-a4fc-ce38f5379c9d",
   "metadata": {},
   "outputs": [],
   "source": [
    "# Exporting the box plot\n",
    "box_pet_income.figure.savefig(os.path.join(path, '04 Analysis','Visualizations','Final 4.10', 'box_pet_income.png'))"
   ]
  },
  {
   "cell_type": "markdown",
   "id": "51cf9ab5-c978-48dc-a37f-524890d37de4",
   "metadata": {},
   "source": [
    "###  PROFILE 2: Alcohol "
   ]
  },
  {
   "cell_type": "code",
   "execution_count": null,
   "id": "a1b37eef-5b0e-4eb9-a13e-a3e85b86ad14",
   "metadata": {},
   "outputs": [],
   "source": [
    "# Creating new column for the aggregation\n",
    "\n",
    "df_filtered['alcohol_consumption'] = df_filtered.groupby(['user_id'])['order_number'].transform(np.max)"
   ]
  },
  {
   "cell_type": "code",
   "execution_count": null,
   "id": "bcdf81f6-2e37-4ab8-958b-000f18d91392",
   "metadata": {},
   "outputs": [],
   "source": [
    "# Filtering the customers that purchased alcohol\n",
    "\n",
    "df_alcohol = df_filtered[df_filtered['department_id'] == 5]"
   ]
  },
  {
   "cell_type": "code",
   "execution_count": null,
   "id": "57371cba-84af-4d30-9402-4d37e0325ee2",
   "metadata": {},
   "outputs": [],
   "source": [
    "# Creating new column - type False/True\n",
    "\n",
    "df_filtered['Consume_alcohol'] = df_filtered['user_id'].isin(df_alcohol['user_id'])"
   ]
  },
  {
   "cell_type": "markdown",
   "id": "beeefd99-4ac7-45e6-8565-de99311f60ad",
   "metadata": {},
   "source": [
    "###  PROFILE 3: Young parent  "
   ]
  },
  {
   "cell_type": "code",
   "execution_count": null,
   "id": "da1e9099-245f-4123-bdd7-a0e62793d7c9",
   "metadata": {},
   "outputs": [],
   "source": [
    "# Creating new column for the aggregation\n",
    "\n",
    "df_filtered['babies_products'] = df_filtered.groupby(['user_id'])['order_number'].transform(np.max)"
   ]
  },
  {
   "cell_type": "code",
   "execution_count": null,
   "id": "c63feee8-743e-4428-be10-a68bb6580eed",
   "metadata": {},
   "outputs": [],
   "source": [
    "# Filtering the customers that purchased babies' products\n",
    "\n",
    "df_babies = df_filtered[df_filtered['department_id'] == 18]"
   ]
  },
  {
   "cell_type": "code",
   "execution_count": null,
   "id": "9d36841e-2f28-4b0f-b185-81df6cde31a6",
   "metadata": {},
   "outputs": [],
   "source": [
    "# Creating new column - type False/True\n",
    "\n",
    "df_filtered['young_parents'] = df_filtered['user_id'].isin(df_babies['user_id'])"
   ]
  },
  {
   "cell_type": "markdown",
   "id": "db5d4d06-9669-429c-b983-9e244dc40e46",
   "metadata": {},
   "source": [
    "### QUESTION 6\n",
    "\n",
    "Create an appropriate visualization to show the distribution of profiles."
   ]
  },
  {
   "cell_type": "code",
   "execution_count": null,
   "id": "3c9f2cc9-3d5f-4b9c-9541-7d45dac19743",
   "metadata": {},
   "outputs": [],
   "source": [
    "#Counting the ocurrence of the profiles (and all users)\n",
    "\n",
    "profile_counts = df_filtered[['is_pet_parent', 'Consume_alcohol', 'young_parents']].sum()"
   ]
  },
  {
   "cell_type": "code",
   "execution_count": null,
   "id": "3393cea4-3a4d-47b1-8e2d-c6202c54ff68",
   "metadata": {},
   "outputs": [],
   "source": [
    "# Creating a bar chart for the distribuition of pet parents vs people who consume alcohol\n",
    "\n",
    "bar_chart_profiles = sns.barplot(x=profile_counts.index, y=profile_counts.values)"
   ]
  },
  {
   "cell_type": "code",
   "execution_count": null,
   "id": "25337d3a-c2b8-46f6-95e5-e73484e99734",
   "metadata": {},
   "outputs": [],
   "source": [
    "# Exporting the bar chart\n",
    "\n",
    "bar_chart_profiles.figure.savefig(os.path.join(path, '04 Analysis','Visualizations', 'Final 4.10', 'bar_chart_profiles.png'))"
   ]
  },
  {
   "cell_type": "markdown",
   "id": "f5ce42ed-a1dc-436e-a529-b5a1b79f53d3",
   "metadata": {},
   "source": [
    "### QUESTION 7 \n",
    "\n",
    "Aggregate the max, mean, and min variables on a customer-profile level for usage frequency and expenditure."
   ]
  },
  {
   "cell_type": "code",
   "execution_count": null,
   "id": "13c33121-d6ab-4fc3-a78b-63d62a2e5bdf",
   "metadata": {},
   "outputs": [],
   "source": [
    "# Creating a column to store the profiles, and setting the default to \"others\"\n",
    "\n",
    "df_filtered['customer_profile'] = 'other'"
   ]
  },
  {
   "cell_type": "code",
   "execution_count": null,
   "id": "6a634477-5eaf-42e5-89a2-f6cf4e1b20fe",
   "metadata": {},
   "outputs": [],
   "source": [
    "# Store the profiles - pet\n",
    "\n",
    "df_filtered.loc[df_filtered['is_pet_parent'], 'customer_profile'] = 'pet-owner'"
   ]
  },
  {
   "cell_type": "code",
   "execution_count": null,
   "id": "255dbdc7-d1b5-4208-a1ef-c214b09940e0",
   "metadata": {},
   "outputs": [],
   "source": [
    "# Creating a column to store the profiles -- alcohol\n",
    "\n",
    "df_filtered.loc[df_filtered['Consume_alcohol'], 'customer_profile'] = 'alcohol-consumption'"
   ]
  },
  {
   "cell_type": "code",
   "execution_count": null,
   "id": "f4d9d8dd-9a7e-4131-9ea6-7c3dc1e8d472",
   "metadata": {},
   "outputs": [],
   "source": [
    "# Creating a column to store the profiles -- young parents\n",
    "\n",
    "df_filtered.loc[df_filtered['young_parents'], 'customer_profile'] = 'young_parents'"
   ]
  },
  {
   "cell_type": "code",
   "execution_count": null,
   "id": "78e4ab56-9990-4f66-bb2c-cbc3ef9a05cc",
   "metadata": {},
   "outputs": [],
   "source": [
    "# Checking the frequency\n",
    "\n",
    "df_filtered['customer_profile'].value_counts(dropna = False)"
   ]
  },
  {
   "cell_type": "code",
   "execution_count": null,
   "id": "21b3fd30-e967-4616-ab9a-ea72646e396d",
   "metadata": {},
   "outputs": [],
   "source": [
    "df_filtered.shape"
   ]
  },
  {
   "cell_type": "code",
   "execution_count": null,
   "id": "e1990eb6-363d-403d-ab30-e165de8a1d45",
   "metadata": {},
   "outputs": [],
   "source": [
    "df_filtered.head()"
   ]
  },
  {
   "cell_type": "code",
   "execution_count": null,
   "id": "68c3f1fa-7e5e-4ca5-af49-bb4f44476b98",
   "metadata": {},
   "outputs": [],
   "source": [
    "#Checking basic statistic per customer-profile for usage frequency\n",
    "\n",
    "df_filtered.groupby('customer_profile').agg({'days_since_prior_order': ['mean', 'min', 'max']})"
   ]
  },
  {
   "cell_type": "markdown",
   "id": "767c9ab5-d9ec-4dc4-8f2c-323d697914fe",
   "metadata": {},
   "source": [
    "### QUESTION 8\n",
    "\n",
    "Compare your customer profiles with regions and departments. Can you identify a link between them? Customers may demonstrate different behaviors across regions, which could make this information important."
   ]
  },
  {
   "cell_type": "markdown",
   "id": "addf4b77-314c-480d-a84b-bce3d81c4aee",
   "metadata": {},
   "source": [
    "#### 1. GROUPED BY REGION  "
   ]
  },
  {
   "cell_type": "code",
   "execution_count": null,
   "id": "9eea9171-c3b1-4f15-900d-6b6ecf8a5c3b",
   "metadata": {},
   "outputs": [],
   "source": [
    "# Grouping data based on profile and region \n",
    "\n",
    "grouped_regions = df_filtered.groupby(['customer_profile', 'regions'])"
   ]
  },
  {
   "cell_type": "markdown",
   "id": "97df1476-06ce-46a0-a6c0-887b8f79bb27",
   "metadata": {},
   "source": [
    "##### ORDER HOUR OF DAY "
   ]
  },
  {
   "cell_type": "code",
   "execution_count": null,
   "id": "90cf2131-5a57-4762-ad96-eeacf349e9a8",
   "metadata": {},
   "outputs": [],
   "source": [
    "# Calculating the statistics\n",
    "\n",
    "stat_hour_day = grouped_regions.agg({'order_hour_of_day': ['min', 'max', 'mean']})"
   ]
  },
  {
   "cell_type": "code",
   "execution_count": null,
   "id": "28dc936b-f559-4882-922f-0b9cf897f2d8",
   "metadata": {},
   "outputs": [],
   "source": [
    "stat_hour_day"
   ]
  },
  {
   "cell_type": "markdown",
   "id": "d80c97b4-39da-4ac9-8a50-7cfcee889cd6",
   "metadata": {},
   "source": [
    "The analysis indicates no notable variation in activity by the hour of the day across different regions and customer profiles according to the data."
   ]
  },
  {
   "cell_type": "markdown",
   "id": "74ddc53a-a41c-4fef-808c-706143d586fe",
   "metadata": {},
   "source": [
    "##### ORDER DAY OF THE WEEK"
   ]
  },
  {
   "cell_type": "code",
   "execution_count": null,
   "id": "87ace05d-0245-40a7-bb9b-785e4335e31b",
   "metadata": {},
   "outputs": [],
   "source": [
    "# Calculating the statistics\n",
    "\n",
    "stat_day_week = grouped_regions.agg({'orders_day_of_week': ['min', 'max', 'mean']})"
   ]
  },
  {
   "cell_type": "code",
   "execution_count": null,
   "id": "d3c582f9-74b5-4e88-8834-b70f399af239",
   "metadata": {},
   "outputs": [],
   "source": [
    "stat_day_week"
   ]
  },
  {
   "cell_type": "markdown",
   "id": "57e3e87e-242b-4d99-9ea4-c65ec6f55cec",
   "metadata": {},
   "source": [
    "##### DAYS SINCE PRIOR ORDER"
   ]
  },
  {
   "cell_type": "code",
   "execution_count": null,
   "id": "e3e2cfd2-48d3-4927-9c69-cfb4ce39f9a6",
   "metadata": {},
   "outputs": [],
   "source": [
    "# Calculating the statistics\n",
    "\n",
    "stat_since_prior_order = grouped_regions.agg({'days_since_prior_order': ['min', 'max', 'mean']})"
   ]
  },
  {
   "cell_type": "code",
   "execution_count": null,
   "id": "b2b0bcd6-b506-45b1-8de3-76d176259532",
   "metadata": {},
   "outputs": [],
   "source": [
    "stat_since_prior_order"
   ]
  },
  {
   "cell_type": "markdown",
   "id": "dbe27474-ad60-4597-b11f-ba60aea4f932",
   "metadata": {},
   "source": [
    "The analysis reveals distinct patterns among customer profiles. Specifically, young parents in all four regions show a consistently shorter interval since their last order compared to other regions or profiles. This insight could prove valuable for marketing strategies and inventory planning."
   ]
  },
  {
   "cell_type": "markdown",
   "id": "46fc3e35-fc27-4c4d-ada1-e1a261f98b44",
   "metadata": {},
   "source": [
    "#### 1. GROUPED BY DEPARTMENT"
   ]
  },
  {
   "cell_type": "code",
   "execution_count": null,
   "id": "fd4926cd-70a1-472d-8021-e874fc6e6fbe",
   "metadata": {},
   "outputs": [],
   "source": [
    "# Grouping data based on profile and department\n",
    "\n",
    "grouped_department = df_filtered.groupby(['customer_profile','department_id'])"
   ]
  },
  {
   "cell_type": "markdown",
   "id": "916c58d5-b4e6-4f24-8898-fc84c8fd9bde",
   "metadata": {},
   "source": [
    "#### DAYS SINCE PRIOR ORDER"
   ]
  },
  {
   "cell_type": "code",
   "execution_count": null,
   "id": "60a30b14-6c9e-410a-9415-33d32aa82c5d",
   "metadata": {},
   "outputs": [],
   "source": [
    "# Calculating the statistics\n",
    "stat_prior_order_dep = grouped_department.agg({'days_since_prior_order': ['min', 'max', 'mean']})"
   ]
  },
  {
   "cell_type": "code",
   "execution_count": null,
   "id": "daeb4e2e-b161-4088-9e3a-74cdfec9a524",
   "metadata": {},
   "outputs": [],
   "source": [
    "# Allowing jupyter to show all rows\n",
    "\n",
    "pd.set_option('display.max_rows', None)\n",
    "pd.set_option('display.max_columns', None)"
   ]
  },
  {
   "cell_type": "code",
   "execution_count": null,
   "id": "38f7cad6-a814-4924-bf22-8fa1bb0ba59a",
   "metadata": {},
   "outputs": [],
   "source": [
    "stat_prior_order_dep"
   ]
  },
  {
   "cell_type": "code",
   "execution_count": null,
   "id": "291bacc6-4acd-4357-8b74-d9f55247b016",
   "metadata": {},
   "outputs": [],
   "source": [
    "# Reseting \n",
    "\n",
    "pd.reset_option('display.max_rows')\n",
    "pd.reset_option('display.max_columns')"
   ]
  },
  {
   "cell_type": "markdown",
   "id": "30049238-a664-4ca8-879d-358ec62a0bdc",
   "metadata": {},
   "source": [
    "The data clearly shows that young parents have a significantly lower average number of days since their last order compared to other customer profiles, across various departments."
   ]
  },
  {
   "cell_type": "code",
   "execution_count": null,
   "id": "2dfc42a4-6238-4d23-b264-b8ed5e583518",
   "metadata": {},
   "outputs": [],
   "source": [
    "# Further checking - grouping by customer profiles\n",
    "\n",
    "grouped_profiles = df_filtered.groupby('customer_profile')"
   ]
  },
  {
   "cell_type": "code",
   "execution_count": null,
   "id": "51ecb78b-7528-4e69-ae7f-f1e7008a7470",
   "metadata": {},
   "outputs": [],
   "source": [
    "# Further checking - calculating stats\n",
    "\n",
    "mean = grouped_profiles['days_since_prior_order'].mean()"
   ]
  },
  {
   "cell_type": "code",
   "execution_count": null,
   "id": "64c35a64-7354-4800-b240-d44055666260",
   "metadata": {},
   "outputs": [],
   "source": [
    "mean"
   ]
  },
  {
   "cell_type": "markdown",
   "id": "eba352ce-de21-43ad-8770-db2f00c178d6",
   "metadata": {},
   "source": [
    "This evidence solidifies that young parents consistently log a substantially shorter average interval since their previous order compared to other customer profiles."
   ]
  },
  {
   "cell_type": "markdown",
   "id": "22d59bb5-1dc8-4a15-af1b-61a2ad08e6ef",
   "metadata": {},
   "source": [
    "### Question 9 \n",
    "\n",
    "Creating charts o illustrate results"
   ]
  },
  {
   "cell_type": "code",
   "execution_count": null,
   "id": "a50b728a-039a-4cc7-9752-6834de2923d1",
   "metadata": {},
   "outputs": [],
   "source": [
    "# Creating bar chart to demonstrate how lower is the mean of young parents in terms of days since prior order \n",
    "\n",
    "bar_days_since_by_profile = mean.plot(kind='bar', color='green')\n",
    "plt.tight_layout(pad=3.0, h_pad=1.0, w_pad=1.0)"
   ]
  },
  {
   "cell_type": "code",
   "execution_count": null,
   "id": "0e99eb5a-96a0-47cb-9967-37872bdf392b",
   "metadata": {},
   "outputs": [],
   "source": [
    "# Exporting the chart\n",
    "bar_days_since_by_profile.figure.savefig(os.path.join(path, '04 Analysis','Visualizations', 'Final 4.10', 'bar_days_since_by_profile.png'))"
   ]
  },
  {
   "cell_type": "code",
   "execution_count": null,
   "id": "287268ad-f3b0-4dff-8a48-f6b2fafa3b12",
   "metadata": {},
   "outputs": [],
   "source": [
    "# Creating a boxplot\n",
    "boxplot_days_since_profile = sns.boxplot(data=df_filtered, x='customer_profile', y='days_since_prior_order', palette='PuBuGn')\n",
    "\n",
    "# Rotate x-axis for readability\n",
    "plt.xticks(rotation=45)  \n",
    "\n",
    "#Adjust label space\n",
    "plt.tight_layout(pad=3.0, h_pad=1.0, w_pad=1.0)"
   ]
  },
  {
   "cell_type": "code",
   "execution_count": null,
   "id": "0ff07578-7b8f-4182-a534-556f74ddc238",
   "metadata": {},
   "outputs": [],
   "source": [
    "# Exporting the chart\n",
    "boxplot_days_since_profile.figure.savefig(os.path.join(path, '04 Analysis','Visualizations', 'Final 4.10', 'boxplot_days_since_profile.png'))"
   ]
  },
  {
   "cell_type": "markdown",
   "id": "efe58863-fc26-4131-a7e9-76b12137d76e",
   "metadata": {},
   "source": [
    "This chart further illustrates the reduced average days since the last order for young adults and also highlights several upper outliers within this customer profile."
   ]
  },
  {
   "cell_type": "markdown",
   "id": "bd1ea779-6f91-4228-83f0-1dcd4d9ac982",
   "metadata": {},
   "source": [
    "# Exporting Dataframe"
   ]
  },
  {
   "cell_type": "code",
   "execution_count": null,
   "id": "f2f2021b-72fd-48ed-836d-f47ba2fbd513",
   "metadata": {},
   "outputs": [],
   "source": [
    "# Exporting dataframe\n",
    "\n",
    "df_filtered.to_pickle(os.path.join(path, '02 Data','Prepared Data', 'df_filtered10.pkl'))"
   ]
  }
 ],
 "metadata": {
  "kernelspec": {
   "display_name": "Python 3 (ipykernel)",
   "language": "python",
   "name": "python3"
  },
  "language_info": {
   "codemirror_mode": {
    "name": "ipython",
    "version": 3
   },
   "file_extension": ".py",
   "mimetype": "text/x-python",
   "name": "python",
   "nbconvert_exporter": "python",
   "pygments_lexer": "ipython3",
   "version": "3.11.7"
  }
 },
 "nbformat": 4,
 "nbformat_minor": 5
}

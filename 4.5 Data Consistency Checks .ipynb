{
 "cells": [
  {
   "cell_type": "markdown",
   "id": "8ab74d51-2035-47e6-9dd2-c993896a22e4",
   "metadata": {},
   "source": [
    "# 01. Importing libraries"
   ]
  },
  {
   "cell_type": "code",
   "execution_count": 49,
   "id": "89c89e32-8147-4b45-bb2c-f6d4bf9fe9be",
   "metadata": {},
   "outputs": [],
   "source": [
    "import pandas as pd\n",
    "import numpy as np\n",
    "import os"
   ]
  },
  {
   "cell_type": "markdown",
   "id": "219e75ea-6c7b-4b97-b5af-f749a697914d",
   "metadata": {},
   "source": [
    "# 0.2 Importing Dataset"
   ]
  },
  {
   "cell_type": "code",
   "execution_count": 50,
   "id": "138dfe0b-f854-4aa9-9694-4d1c7ca974d0",
   "metadata": {},
   "outputs": [
    {
     "data": {
      "text/plain": [
       "'/Users/urvi/Desktop/Instacart Basket Analysis'"
      ]
     },
     "execution_count": 50,
     "metadata": {},
     "output_type": "execute_result"
    }
   ],
   "source": [
    "# Telling python to remember a main folder path\n",
    "path=r'/Users/urvi/Desktop/Instacart Basket Analysis'\n",
    "path"
   ]
  },
  {
   "cell_type": "code",
   "execution_count": 51,
   "id": "d2478bc1-1bc0-4709-ad4f-17311dcfbfb3",
   "metadata": {},
   "outputs": [],
   "source": [
    "#Importing orders_wrangled.csv data set\n",
    "df_ords=pd.read_csv(os.path.join(path, '02 Data','Prepared Data','orders_wrangled.csv'), index_col=False)"
   ]
  },
  {
   "cell_type": "code",
   "execution_count": 52,
   "id": "349a1e19-b8af-405e-9262-37910a24a307",
   "metadata": {},
   "outputs": [],
   "source": [
    "# Importing products.csv data set\n",
    "df_prods=pd.read_csv(os.path.join(path,'02 Data','Original Data', 'products.csv'), index_col=False)"
   ]
  },
  {
   "cell_type": "code",
   "execution_count": 84,
   "id": "205f04f2-e9d9-4b4f-a956-4f11716d1b88",
   "metadata": {},
   "outputs": [],
   "source": [
    "#Importing orders_wrangled.csv data set\n",
    "df_ords_clean=pd.read_csv(os.path.join(path, '02 Data','Prepared Data','orders_wrangled.csv'), index_col=False)"
   ]
  },
  {
   "cell_type": "markdown",
   "id": "ec0eccb3-c9e4-4376-81c7-081f90ee1684",
   "metadata": {},
   "source": [
    "# 0.3 Data consistency checks"
   ]
  },
  {
   "cell_type": "code",
   "execution_count": 53,
   "id": "9da0daed-179c-46fc-9ee7-6984415af1ff",
   "metadata": {},
   "outputs": [
    {
     "data": {
      "text/html": [
       "<div>\n",
       "<style scoped>\n",
       "    .dataframe tbody tr th:only-of-type {\n",
       "        vertical-align: middle;\n",
       "    }\n",
       "\n",
       "    .dataframe tbody tr th {\n",
       "        vertical-align: top;\n",
       "    }\n",
       "\n",
       "    .dataframe thead th {\n",
       "        text-align: right;\n",
       "    }\n",
       "</style>\n",
       "<table border=\"1\" class=\"dataframe\">\n",
       "  <thead>\n",
       "    <tr style=\"text-align: right;\">\n",
       "      <th></th>\n",
       "      <th>Unnamed: 0</th>\n",
       "      <th>order_id</th>\n",
       "      <th>user_id</th>\n",
       "      <th>order_number</th>\n",
       "      <th>orders_day_of_week</th>\n",
       "      <th>order_hour_of_day</th>\n",
       "      <th>days_since_prior_order</th>\n",
       "    </tr>\n",
       "  </thead>\n",
       "  <tbody>\n",
       "    <tr>\n",
       "      <th>count</th>\n",
       "      <td>3.421083e+06</td>\n",
       "      <td>3.421083e+06</td>\n",
       "      <td>3.421083e+06</td>\n",
       "      <td>3.421083e+06</td>\n",
       "      <td>3.421083e+06</td>\n",
       "      <td>3.421083e+06</td>\n",
       "      <td>3.214874e+06</td>\n",
       "    </tr>\n",
       "    <tr>\n",
       "      <th>mean</th>\n",
       "      <td>1.710541e+06</td>\n",
       "      <td>1.710542e+06</td>\n",
       "      <td>1.029782e+05</td>\n",
       "      <td>1.715486e+01</td>\n",
       "      <td>2.776219e+00</td>\n",
       "      <td>1.345202e+01</td>\n",
       "      <td>1.111484e+01</td>\n",
       "    </tr>\n",
       "    <tr>\n",
       "      <th>std</th>\n",
       "      <td>9.875817e+05</td>\n",
       "      <td>9.875817e+05</td>\n",
       "      <td>5.953372e+04</td>\n",
       "      <td>1.773316e+01</td>\n",
       "      <td>2.046829e+00</td>\n",
       "      <td>4.226088e+00</td>\n",
       "      <td>9.206737e+00</td>\n",
       "    </tr>\n",
       "    <tr>\n",
       "      <th>min</th>\n",
       "      <td>0.000000e+00</td>\n",
       "      <td>1.000000e+00</td>\n",
       "      <td>1.000000e+00</td>\n",
       "      <td>1.000000e+00</td>\n",
       "      <td>0.000000e+00</td>\n",
       "      <td>0.000000e+00</td>\n",
       "      <td>0.000000e+00</td>\n",
       "    </tr>\n",
       "    <tr>\n",
       "      <th>25%</th>\n",
       "      <td>8.552705e+05</td>\n",
       "      <td>8.552715e+05</td>\n",
       "      <td>5.139400e+04</td>\n",
       "      <td>5.000000e+00</td>\n",
       "      <td>1.000000e+00</td>\n",
       "      <td>1.000000e+01</td>\n",
       "      <td>4.000000e+00</td>\n",
       "    </tr>\n",
       "    <tr>\n",
       "      <th>50%</th>\n",
       "      <td>1.710541e+06</td>\n",
       "      <td>1.710542e+06</td>\n",
       "      <td>1.026890e+05</td>\n",
       "      <td>1.100000e+01</td>\n",
       "      <td>3.000000e+00</td>\n",
       "      <td>1.300000e+01</td>\n",
       "      <td>7.000000e+00</td>\n",
       "    </tr>\n",
       "    <tr>\n",
       "      <th>75%</th>\n",
       "      <td>2.565812e+06</td>\n",
       "      <td>2.565812e+06</td>\n",
       "      <td>1.543850e+05</td>\n",
       "      <td>2.300000e+01</td>\n",
       "      <td>5.000000e+00</td>\n",
       "      <td>1.600000e+01</td>\n",
       "      <td>1.500000e+01</td>\n",
       "    </tr>\n",
       "    <tr>\n",
       "      <th>max</th>\n",
       "      <td>3.421082e+06</td>\n",
       "      <td>3.421083e+06</td>\n",
       "      <td>2.062090e+05</td>\n",
       "      <td>1.000000e+02</td>\n",
       "      <td>6.000000e+00</td>\n",
       "      <td>2.300000e+01</td>\n",
       "      <td>3.000000e+01</td>\n",
       "    </tr>\n",
       "  </tbody>\n",
       "</table>\n",
       "</div>"
      ],
      "text/plain": [
       "         Unnamed: 0      order_id       user_id  order_number  \\\n",
       "count  3.421083e+06  3.421083e+06  3.421083e+06  3.421083e+06   \n",
       "mean   1.710541e+06  1.710542e+06  1.029782e+05  1.715486e+01   \n",
       "std    9.875817e+05  9.875817e+05  5.953372e+04  1.773316e+01   \n",
       "min    0.000000e+00  1.000000e+00  1.000000e+00  1.000000e+00   \n",
       "25%    8.552705e+05  8.552715e+05  5.139400e+04  5.000000e+00   \n",
       "50%    1.710541e+06  1.710542e+06  1.026890e+05  1.100000e+01   \n",
       "75%    2.565812e+06  2.565812e+06  1.543850e+05  2.300000e+01   \n",
       "max    3.421082e+06  3.421083e+06  2.062090e+05  1.000000e+02   \n",
       "\n",
       "       orders_day_of_week  order_hour_of_day  days_since_prior_order  \n",
       "count        3.421083e+06       3.421083e+06            3.214874e+06  \n",
       "mean         2.776219e+00       1.345202e+01            1.111484e+01  \n",
       "std          2.046829e+00       4.226088e+00            9.206737e+00  \n",
       "min          0.000000e+00       0.000000e+00            0.000000e+00  \n",
       "25%          1.000000e+00       1.000000e+01            4.000000e+00  \n",
       "50%          3.000000e+00       1.300000e+01            7.000000e+00  \n",
       "75%          5.000000e+00       1.600000e+01            1.500000e+01  \n",
       "max          6.000000e+00       2.300000e+01            3.000000e+01  "
      ]
     },
     "execution_count": 53,
     "metadata": {},
     "output_type": "execute_result"
    }
   ],
   "source": [
    "df_ords.describe()"
   ]
  },
  {
   "cell_type": "markdown",
   "id": "ea05161e-f4e7-400e-8433-fbbfac8b601b",
   "metadata": {},
   "source": [
    "### Mixed Data Type"
   ]
  },
  {
   "cell_type": "code",
   "execution_count": 54,
   "id": "b65ac84c-64be-4a11-8195-34b986b38e63",
   "metadata": {},
   "outputs": [],
   "source": [
    "# Create a dataframe\n",
    "df_test = pd.DataFrame()"
   ]
  },
  {
   "cell_type": "code",
   "execution_count": 55,
   "id": "1527e3bb-fc62-4619-a382-7e908dc6b502",
   "metadata": {},
   "outputs": [
    {
     "data": {
      "text/html": [
       "<div>\n",
       "<style scoped>\n",
       "    .dataframe tbody tr th:only-of-type {\n",
       "        vertical-align: middle;\n",
       "    }\n",
       "\n",
       "    .dataframe tbody tr th {\n",
       "        vertical-align: top;\n",
       "    }\n",
       "\n",
       "    .dataframe thead th {\n",
       "        text-align: right;\n",
       "    }\n",
       "</style>\n",
       "<table border=\"1\" class=\"dataframe\">\n",
       "  <thead>\n",
       "    <tr style=\"text-align: right;\">\n",
       "      <th></th>\n",
       "      <th>mix</th>\n",
       "    </tr>\n",
       "  </thead>\n",
       "  <tbody>\n",
       "    <tr>\n",
       "      <th>0</th>\n",
       "      <td>a</td>\n",
       "    </tr>\n",
       "    <tr>\n",
       "      <th>1</th>\n",
       "      <td>b</td>\n",
       "    </tr>\n",
       "    <tr>\n",
       "      <th>2</th>\n",
       "      <td>1</td>\n",
       "    </tr>\n",
       "    <tr>\n",
       "      <th>3</th>\n",
       "      <td>True</td>\n",
       "    </tr>\n",
       "  </tbody>\n",
       "</table>\n",
       "</div>"
      ],
      "text/plain": [
       "    mix\n",
       "0     a\n",
       "1     b\n",
       "2     1\n",
       "3  True"
      ]
     },
     "execution_count": 55,
     "metadata": {},
     "output_type": "execute_result"
    }
   ],
   "source": [
    "# Create a mixed type column\n",
    "df_test['mix'] = ['a', 'b', 1, True]\n",
    "df_test.head()"
   ]
  },
  {
   "cell_type": "code",
   "execution_count": 56,
   "id": "284f7856-fb82-43ce-bcd0-8d224c10fd09",
   "metadata": {},
   "outputs": [
    {
     "name": "stdout",
     "output_type": "stream",
     "text": [
      "mix\n"
     ]
    }
   ],
   "source": [
    "# Check for mixed types\n",
    "for col in df_test.columns.tolist():\n",
    "    weird= (df_test[[col]].map(type)!=df_test[[col]].iloc[0].apply(type)).any(axis=1)\n",
    "    if len (df_test[weird])>0:\n",
    "        print (col)"
   ]
  },
  {
   "cell_type": "code",
   "execution_count": 57,
   "id": "c4875f4f-ed9f-4936-a747-002d160fdb68",
   "metadata": {},
   "outputs": [],
   "source": [
    "# Fix mixed-type column\n",
    "df_test['mix'] = df_test['mix'].astype('str')"
   ]
  },
  {
   "cell_type": "markdown",
   "id": "49a49758-f0b2-452e-b1cd-51efb65cc1ac",
   "metadata": {},
   "source": [
    "### Missing values"
   ]
  },
  {
   "cell_type": "markdown",
   "id": "693a2e16-d5b8-448d-ab7d-39f65bf3772e",
   "metadata": {},
   "source": [
    "#### Task 1 "
   ]
  },
  {
   "cell_type": "code",
   "execution_count": 58,
   "id": "37244fbb-b954-4340-92c9-7b82a73cf69d",
   "metadata": {},
   "outputs": [
    {
     "data": {
      "text/plain": [
       "product_id        0\n",
       "product_name     16\n",
       "aisle_id          0\n",
       "department_id     0\n",
       "prices            0\n",
       "dtype: int64"
      ]
     },
     "execution_count": 58,
     "metadata": {},
     "output_type": "execute_result"
    }
   ],
   "source": [
    "# Function to obtain the total number of missing observations\n",
    "df_prods.isnull().sum()"
   ]
  },
  {
   "cell_type": "code",
   "execution_count": 59,
   "id": "9bf140a8-9137-4b29-b51a-f1cdcf745012",
   "metadata": {},
   "outputs": [
    {
     "data": {
      "text/html": [
       "<div>\n",
       "<style scoped>\n",
       "    .dataframe tbody tr th:only-of-type {\n",
       "        vertical-align: middle;\n",
       "    }\n",
       "\n",
       "    .dataframe tbody tr th {\n",
       "        vertical-align: top;\n",
       "    }\n",
       "\n",
       "    .dataframe thead th {\n",
       "        text-align: right;\n",
       "    }\n",
       "</style>\n",
       "<table border=\"1\" class=\"dataframe\">\n",
       "  <thead>\n",
       "    <tr style=\"text-align: right;\">\n",
       "      <th></th>\n",
       "      <th>product_id</th>\n",
       "      <th>product_name</th>\n",
       "      <th>aisle_id</th>\n",
       "      <th>department_id</th>\n",
       "      <th>prices</th>\n",
       "    </tr>\n",
       "  </thead>\n",
       "  <tbody>\n",
       "    <tr>\n",
       "      <th>33</th>\n",
       "      <td>34</td>\n",
       "      <td>NaN</td>\n",
       "      <td>121</td>\n",
       "      <td>14</td>\n",
       "      <td>12.2</td>\n",
       "    </tr>\n",
       "    <tr>\n",
       "      <th>68</th>\n",
       "      <td>69</td>\n",
       "      <td>NaN</td>\n",
       "      <td>26</td>\n",
       "      <td>7</td>\n",
       "      <td>11.8</td>\n",
       "    </tr>\n",
       "    <tr>\n",
       "      <th>115</th>\n",
       "      <td>116</td>\n",
       "      <td>NaN</td>\n",
       "      <td>93</td>\n",
       "      <td>3</td>\n",
       "      <td>10.8</td>\n",
       "    </tr>\n",
       "    <tr>\n",
       "      <th>261</th>\n",
       "      <td>262</td>\n",
       "      <td>NaN</td>\n",
       "      <td>110</td>\n",
       "      <td>13</td>\n",
       "      <td>12.1</td>\n",
       "    </tr>\n",
       "    <tr>\n",
       "      <th>525</th>\n",
       "      <td>525</td>\n",
       "      <td>NaN</td>\n",
       "      <td>109</td>\n",
       "      <td>11</td>\n",
       "      <td>1.2</td>\n",
       "    </tr>\n",
       "    <tr>\n",
       "      <th>1511</th>\n",
       "      <td>1511</td>\n",
       "      <td>NaN</td>\n",
       "      <td>84</td>\n",
       "      <td>16</td>\n",
       "      <td>14.3</td>\n",
       "    </tr>\n",
       "    <tr>\n",
       "      <th>1780</th>\n",
       "      <td>1780</td>\n",
       "      <td>NaN</td>\n",
       "      <td>126</td>\n",
       "      <td>11</td>\n",
       "      <td>12.3</td>\n",
       "    </tr>\n",
       "    <tr>\n",
       "      <th>2240</th>\n",
       "      <td>2240</td>\n",
       "      <td>NaN</td>\n",
       "      <td>52</td>\n",
       "      <td>1</td>\n",
       "      <td>14.2</td>\n",
       "    </tr>\n",
       "    <tr>\n",
       "      <th>2586</th>\n",
       "      <td>2586</td>\n",
       "      <td>NaN</td>\n",
       "      <td>104</td>\n",
       "      <td>13</td>\n",
       "      <td>12.4</td>\n",
       "    </tr>\n",
       "    <tr>\n",
       "      <th>3159</th>\n",
       "      <td>3159</td>\n",
       "      <td>NaN</td>\n",
       "      <td>126</td>\n",
       "      <td>11</td>\n",
       "      <td>13.1</td>\n",
       "    </tr>\n",
       "    <tr>\n",
       "      <th>3230</th>\n",
       "      <td>3230</td>\n",
       "      <td>NaN</td>\n",
       "      <td>120</td>\n",
       "      <td>16</td>\n",
       "      <td>14.4</td>\n",
       "    </tr>\n",
       "    <tr>\n",
       "      <th>3736</th>\n",
       "      <td>3736</td>\n",
       "      <td>NaN</td>\n",
       "      <td>41</td>\n",
       "      <td>8</td>\n",
       "      <td>14.8</td>\n",
       "    </tr>\n",
       "    <tr>\n",
       "      <th>4283</th>\n",
       "      <td>4283</td>\n",
       "      <td>NaN</td>\n",
       "      <td>77</td>\n",
       "      <td>7</td>\n",
       "      <td>14.4</td>\n",
       "    </tr>\n",
       "    <tr>\n",
       "      <th>4790</th>\n",
       "      <td>4790</td>\n",
       "      <td>NaN</td>\n",
       "      <td>91</td>\n",
       "      <td>16</td>\n",
       "      <td>14.5</td>\n",
       "    </tr>\n",
       "    <tr>\n",
       "      <th>38187</th>\n",
       "      <td>38183</td>\n",
       "      <td>NaN</td>\n",
       "      <td>39</td>\n",
       "      <td>12</td>\n",
       "      <td>20.9</td>\n",
       "    </tr>\n",
       "    <tr>\n",
       "      <th>40444</th>\n",
       "      <td>40440</td>\n",
       "      <td>NaN</td>\n",
       "      <td>120</td>\n",
       "      <td>16</td>\n",
       "      <td>14.8</td>\n",
       "    </tr>\n",
       "  </tbody>\n",
       "</table>\n",
       "</div>"
      ],
      "text/plain": [
       "       product_id product_name  aisle_id  department_id  prices\n",
       "33             34          NaN       121             14    12.2\n",
       "68             69          NaN        26              7    11.8\n",
       "115           116          NaN        93              3    10.8\n",
       "261           262          NaN       110             13    12.1\n",
       "525           525          NaN       109             11     1.2\n",
       "1511         1511          NaN        84             16    14.3\n",
       "1780         1780          NaN       126             11    12.3\n",
       "2240         2240          NaN        52              1    14.2\n",
       "2586         2586          NaN       104             13    12.4\n",
       "3159         3159          NaN       126             11    13.1\n",
       "3230         3230          NaN       120             16    14.4\n",
       "3736         3736          NaN        41              8    14.8\n",
       "4283         4283          NaN        77              7    14.4\n",
       "4790         4790          NaN        91             16    14.5\n",
       "38187       38183          NaN        39             12    20.9\n",
       "40444       40440          NaN       120             16    14.8"
      ]
     },
     "execution_count": 59,
     "metadata": {},
     "output_type": "execute_result"
    }
   ],
   "source": [
    "# Create a subset containing only missing values\n",
    "df_nan = df_prods[df_prods['product_name'].isnull() == True]\n",
    "df_nan"
   ]
  },
  {
   "cell_type": "code",
   "execution_count": 60,
   "id": "b10c2040-8445-416d-84f9-932c595d0208",
   "metadata": {},
   "outputs": [
    {
     "data": {
      "text/plain": [
       "(49693, 5)"
      ]
     },
     "execution_count": 60,
     "metadata": {},
     "output_type": "execute_result"
    }
   ],
   "source": [
    "df_prods.shape"
   ]
  },
  {
   "cell_type": "code",
   "execution_count": 61,
   "id": "4528c40c-9e6d-41eb-b0c5-cfe0998a6f69",
   "metadata": {},
   "outputs": [
    {
     "data": {
      "text/html": [
       "<div>\n",
       "<style scoped>\n",
       "    .dataframe tbody tr th:only-of-type {\n",
       "        vertical-align: middle;\n",
       "    }\n",
       "\n",
       "    .dataframe tbody tr th {\n",
       "        vertical-align: top;\n",
       "    }\n",
       "\n",
       "    .dataframe thead th {\n",
       "        text-align: right;\n",
       "    }\n",
       "</style>\n",
       "<table border=\"1\" class=\"dataframe\">\n",
       "  <thead>\n",
       "    <tr style=\"text-align: right;\">\n",
       "      <th></th>\n",
       "      <th>product_id</th>\n",
       "      <th>product_name</th>\n",
       "      <th>aisle_id</th>\n",
       "      <th>department_id</th>\n",
       "      <th>prices</th>\n",
       "    </tr>\n",
       "  </thead>\n",
       "  <tbody>\n",
       "    <tr>\n",
       "      <th>0</th>\n",
       "      <td>1</td>\n",
       "      <td>Chocolate Sandwich Cookies</td>\n",
       "      <td>61</td>\n",
       "      <td>19</td>\n",
       "      <td>5.8</td>\n",
       "    </tr>\n",
       "    <tr>\n",
       "      <th>1</th>\n",
       "      <td>2</td>\n",
       "      <td>All-Seasons Salt</td>\n",
       "      <td>104</td>\n",
       "      <td>13</td>\n",
       "      <td>9.3</td>\n",
       "    </tr>\n",
       "    <tr>\n",
       "      <th>2</th>\n",
       "      <td>3</td>\n",
       "      <td>Robust Golden Unsweetened Oolong Tea</td>\n",
       "      <td>94</td>\n",
       "      <td>7</td>\n",
       "      <td>4.5</td>\n",
       "    </tr>\n",
       "    <tr>\n",
       "      <th>3</th>\n",
       "      <td>4</td>\n",
       "      <td>Smart Ones Classic Favorites Mini Rigatoni Wit...</td>\n",
       "      <td>38</td>\n",
       "      <td>1</td>\n",
       "      <td>10.5</td>\n",
       "    </tr>\n",
       "    <tr>\n",
       "      <th>4</th>\n",
       "      <td>5</td>\n",
       "      <td>Green Chile Anytime Sauce</td>\n",
       "      <td>5</td>\n",
       "      <td>13</td>\n",
       "      <td>4.3</td>\n",
       "    </tr>\n",
       "    <tr>\n",
       "      <th>...</th>\n",
       "      <td>...</td>\n",
       "      <td>...</td>\n",
       "      <td>...</td>\n",
       "      <td>...</td>\n",
       "      <td>...</td>\n",
       "    </tr>\n",
       "    <tr>\n",
       "      <th>49688</th>\n",
       "      <td>49684</td>\n",
       "      <td>Vodka, Triple Distilled, Twist of Vanilla</td>\n",
       "      <td>124</td>\n",
       "      <td>5</td>\n",
       "      <td>5.3</td>\n",
       "    </tr>\n",
       "    <tr>\n",
       "      <th>49689</th>\n",
       "      <td>49685</td>\n",
       "      <td>En Croute Roast Hazelnut Cranberry</td>\n",
       "      <td>42</td>\n",
       "      <td>1</td>\n",
       "      <td>3.1</td>\n",
       "    </tr>\n",
       "    <tr>\n",
       "      <th>49690</th>\n",
       "      <td>49686</td>\n",
       "      <td>Artisan Baguette</td>\n",
       "      <td>112</td>\n",
       "      <td>3</td>\n",
       "      <td>7.8</td>\n",
       "    </tr>\n",
       "    <tr>\n",
       "      <th>49691</th>\n",
       "      <td>49687</td>\n",
       "      <td>Smartblend Healthy Metabolism Dry Cat Food</td>\n",
       "      <td>41</td>\n",
       "      <td>8</td>\n",
       "      <td>4.7</td>\n",
       "    </tr>\n",
       "    <tr>\n",
       "      <th>49692</th>\n",
       "      <td>49688</td>\n",
       "      <td>Fresh Foaming Cleanser</td>\n",
       "      <td>73</td>\n",
       "      <td>11</td>\n",
       "      <td>13.5</td>\n",
       "    </tr>\n",
       "  </tbody>\n",
       "</table>\n",
       "<p>49677 rows × 5 columns</p>\n",
       "</div>"
      ],
      "text/plain": [
       "       product_id                                       product_name  \\\n",
       "0               1                         Chocolate Sandwich Cookies   \n",
       "1               2                                   All-Seasons Salt   \n",
       "2               3               Robust Golden Unsweetened Oolong Tea   \n",
       "3               4  Smart Ones Classic Favorites Mini Rigatoni Wit...   \n",
       "4               5                          Green Chile Anytime Sauce   \n",
       "...           ...                                                ...   \n",
       "49688       49684          Vodka, Triple Distilled, Twist of Vanilla   \n",
       "49689       49685                 En Croute Roast Hazelnut Cranberry   \n",
       "49690       49686                                   Artisan Baguette   \n",
       "49691       49687         Smartblend Healthy Metabolism Dry Cat Food   \n",
       "49692       49688                             Fresh Foaming Cleanser   \n",
       "\n",
       "       aisle_id  department_id  prices  \n",
       "0            61             19     5.8  \n",
       "1           104             13     9.3  \n",
       "2            94              7     4.5  \n",
       "3            38              1    10.5  \n",
       "4             5             13     4.3  \n",
       "...         ...            ...     ...  \n",
       "49688       124              5     5.3  \n",
       "49689        42              1     3.1  \n",
       "49690       112              3     7.8  \n",
       "49691        41              8     4.7  \n",
       "49692        73             11    13.5  \n",
       "\n",
       "[49677 rows x 5 columns]"
      ]
     },
     "execution_count": 61,
     "metadata": {},
     "output_type": "execute_result"
    }
   ],
   "source": [
    "# Create a subset containing only non-missing values\n",
    "df_prods_clean = df_prods[df_prods['product_name'].isnull() == False]\n",
    "df_prods_clean"
   ]
  },
  {
   "cell_type": "code",
   "execution_count": 62,
   "id": "012fcc69-2f0d-4efa-af9d-1a2846a0625b",
   "metadata": {},
   "outputs": [
    {
     "data": {
      "text/plain": [
       "(49677, 5)"
      ]
     },
     "execution_count": 62,
     "metadata": {},
     "output_type": "execute_result"
    }
   ],
   "source": [
    "df_prods_clean.shape"
   ]
  },
  {
   "cell_type": "markdown",
   "id": "73c70bf3-b863-45f3-a904-238bbc4ec1ae",
   "metadata": {},
   "source": [
    "### Duplicate values"
   ]
  },
  {
   "cell_type": "code",
   "execution_count": 63,
   "id": "384a369e-15db-4d17-b359-291fa109d385",
   "metadata": {},
   "outputs": [
    {
     "data": {
      "text/html": [
       "<div>\n",
       "<style scoped>\n",
       "    .dataframe tbody tr th:only-of-type {\n",
       "        vertical-align: middle;\n",
       "    }\n",
       "\n",
       "    .dataframe tbody tr th {\n",
       "        vertical-align: top;\n",
       "    }\n",
       "\n",
       "    .dataframe thead th {\n",
       "        text-align: right;\n",
       "    }\n",
       "</style>\n",
       "<table border=\"1\" class=\"dataframe\">\n",
       "  <thead>\n",
       "    <tr style=\"text-align: right;\">\n",
       "      <th></th>\n",
       "      <th>product_id</th>\n",
       "      <th>product_name</th>\n",
       "      <th>aisle_id</th>\n",
       "      <th>department_id</th>\n",
       "      <th>prices</th>\n",
       "    </tr>\n",
       "  </thead>\n",
       "  <tbody>\n",
       "    <tr>\n",
       "      <th>462</th>\n",
       "      <td>462</td>\n",
       "      <td>Fiber 4g Gummy Dietary Supplement</td>\n",
       "      <td>70</td>\n",
       "      <td>11</td>\n",
       "      <td>4.8</td>\n",
       "    </tr>\n",
       "    <tr>\n",
       "      <th>18459</th>\n",
       "      <td>18458</td>\n",
       "      <td>Ranger IPA</td>\n",
       "      <td>27</td>\n",
       "      <td>5</td>\n",
       "      <td>9.2</td>\n",
       "    </tr>\n",
       "    <tr>\n",
       "      <th>26810</th>\n",
       "      <td>26808</td>\n",
       "      <td>Black House Coffee Roasty Stout Beer</td>\n",
       "      <td>27</td>\n",
       "      <td>5</td>\n",
       "      <td>13.4</td>\n",
       "    </tr>\n",
       "    <tr>\n",
       "      <th>35309</th>\n",
       "      <td>35306</td>\n",
       "      <td>Gluten Free Organic Peanut Butter &amp; Chocolate ...</td>\n",
       "      <td>121</td>\n",
       "      <td>14</td>\n",
       "      <td>6.8</td>\n",
       "    </tr>\n",
       "    <tr>\n",
       "      <th>35495</th>\n",
       "      <td>35491</td>\n",
       "      <td>Adore Forever Body Wash</td>\n",
       "      <td>127</td>\n",
       "      <td>11</td>\n",
       "      <td>9.9</td>\n",
       "    </tr>\n",
       "  </tbody>\n",
       "</table>\n",
       "</div>"
      ],
      "text/plain": [
       "       product_id                                       product_name  \\\n",
       "462           462                  Fiber 4g Gummy Dietary Supplement   \n",
       "18459       18458                                         Ranger IPA   \n",
       "26810       26808               Black House Coffee Roasty Stout Beer   \n",
       "35309       35306  Gluten Free Organic Peanut Butter & Chocolate ...   \n",
       "35495       35491                            Adore Forever Body Wash   \n",
       "\n",
       "       aisle_id  department_id  prices  \n",
       "462          70             11     4.8  \n",
       "18459        27              5     9.2  \n",
       "26810        27              5    13.4  \n",
       "35309       121             14     6.8  \n",
       "35495       127             11     9.9  "
      ]
     },
     "execution_count": 63,
     "metadata": {},
     "output_type": "execute_result"
    }
   ],
   "source": [
    "# Looking for full duplicates within the df_prods_clean\n",
    "df_dups = df_prods_clean[df_prods_clean.duplicated()]\n",
    "df_dups"
   ]
  },
  {
   "cell_type": "code",
   "execution_count": 64,
   "id": "1f2b0fc9-e0f0-435b-8b38-0fec55bf92a2",
   "metadata": {},
   "outputs": [
    {
     "data": {
      "text/plain": [
       "(49672, 5)"
      ]
     },
     "execution_count": 64,
     "metadata": {},
     "output_type": "execute_result"
    }
   ],
   "source": [
    "# Removing duplicate values\n",
    "df_prods_clean_no_dups=df_prods_clean.drop_duplicates()\n",
    "df_prods_clean_no_dups.shape"
   ]
  },
  {
   "cell_type": "markdown",
   "id": "42685f28-fce8-4ad7-b84f-ca24e8ee5b32",
   "metadata": {},
   "source": [
    "# 0.4 Task Exercises"
   ]
  },
  {
   "cell_type": "markdown",
   "id": "5f25d99c-e8ed-4302-bd01-b524671950a6",
   "metadata": {},
   "source": [
    "### 2. Check df_ords dataframe for inconsistencies"
   ]
  },
  {
   "cell_type": "code",
   "execution_count": 65,
   "id": "615c9bfa-0007-4668-9156-e40f80797f36",
   "metadata": {
    "scrolled": true
   },
   "outputs": [
    {
     "data": {
      "text/html": [
       "<div>\n",
       "<style scoped>\n",
       "    .dataframe tbody tr th:only-of-type {\n",
       "        vertical-align: middle;\n",
       "    }\n",
       "\n",
       "    .dataframe tbody tr th {\n",
       "        vertical-align: top;\n",
       "    }\n",
       "\n",
       "    .dataframe thead th {\n",
       "        text-align: right;\n",
       "    }\n",
       "</style>\n",
       "<table border=\"1\" class=\"dataframe\">\n",
       "  <thead>\n",
       "    <tr style=\"text-align: right;\">\n",
       "      <th></th>\n",
       "      <th>Unnamed: 0</th>\n",
       "      <th>order_id</th>\n",
       "      <th>user_id</th>\n",
       "      <th>order_number</th>\n",
       "      <th>orders_day_of_week</th>\n",
       "      <th>order_hour_of_day</th>\n",
       "      <th>days_since_prior_order</th>\n",
       "    </tr>\n",
       "  </thead>\n",
       "  <tbody>\n",
       "    <tr>\n",
       "      <th>count</th>\n",
       "      <td>3.421083e+06</td>\n",
       "      <td>3.421083e+06</td>\n",
       "      <td>3.421083e+06</td>\n",
       "      <td>3.421083e+06</td>\n",
       "      <td>3.421083e+06</td>\n",
       "      <td>3.421083e+06</td>\n",
       "      <td>3.214874e+06</td>\n",
       "    </tr>\n",
       "    <tr>\n",
       "      <th>mean</th>\n",
       "      <td>1.710541e+06</td>\n",
       "      <td>1.710542e+06</td>\n",
       "      <td>1.029782e+05</td>\n",
       "      <td>1.715486e+01</td>\n",
       "      <td>2.776219e+00</td>\n",
       "      <td>1.345202e+01</td>\n",
       "      <td>1.111484e+01</td>\n",
       "    </tr>\n",
       "    <tr>\n",
       "      <th>std</th>\n",
       "      <td>9.875817e+05</td>\n",
       "      <td>9.875817e+05</td>\n",
       "      <td>5.953372e+04</td>\n",
       "      <td>1.773316e+01</td>\n",
       "      <td>2.046829e+00</td>\n",
       "      <td>4.226088e+00</td>\n",
       "      <td>9.206737e+00</td>\n",
       "    </tr>\n",
       "    <tr>\n",
       "      <th>min</th>\n",
       "      <td>0.000000e+00</td>\n",
       "      <td>1.000000e+00</td>\n",
       "      <td>1.000000e+00</td>\n",
       "      <td>1.000000e+00</td>\n",
       "      <td>0.000000e+00</td>\n",
       "      <td>0.000000e+00</td>\n",
       "      <td>0.000000e+00</td>\n",
       "    </tr>\n",
       "    <tr>\n",
       "      <th>25%</th>\n",
       "      <td>8.552705e+05</td>\n",
       "      <td>8.552715e+05</td>\n",
       "      <td>5.139400e+04</td>\n",
       "      <td>5.000000e+00</td>\n",
       "      <td>1.000000e+00</td>\n",
       "      <td>1.000000e+01</td>\n",
       "      <td>4.000000e+00</td>\n",
       "    </tr>\n",
       "    <tr>\n",
       "      <th>50%</th>\n",
       "      <td>1.710541e+06</td>\n",
       "      <td>1.710542e+06</td>\n",
       "      <td>1.026890e+05</td>\n",
       "      <td>1.100000e+01</td>\n",
       "      <td>3.000000e+00</td>\n",
       "      <td>1.300000e+01</td>\n",
       "      <td>7.000000e+00</td>\n",
       "    </tr>\n",
       "    <tr>\n",
       "      <th>75%</th>\n",
       "      <td>2.565812e+06</td>\n",
       "      <td>2.565812e+06</td>\n",
       "      <td>1.543850e+05</td>\n",
       "      <td>2.300000e+01</td>\n",
       "      <td>5.000000e+00</td>\n",
       "      <td>1.600000e+01</td>\n",
       "      <td>1.500000e+01</td>\n",
       "    </tr>\n",
       "    <tr>\n",
       "      <th>max</th>\n",
       "      <td>3.421082e+06</td>\n",
       "      <td>3.421083e+06</td>\n",
       "      <td>2.062090e+05</td>\n",
       "      <td>1.000000e+02</td>\n",
       "      <td>6.000000e+00</td>\n",
       "      <td>2.300000e+01</td>\n",
       "      <td>3.000000e+01</td>\n",
       "    </tr>\n",
       "  </tbody>\n",
       "</table>\n",
       "</div>"
      ],
      "text/plain": [
       "         Unnamed: 0      order_id       user_id  order_number  \\\n",
       "count  3.421083e+06  3.421083e+06  3.421083e+06  3.421083e+06   \n",
       "mean   1.710541e+06  1.710542e+06  1.029782e+05  1.715486e+01   \n",
       "std    9.875817e+05  9.875817e+05  5.953372e+04  1.773316e+01   \n",
       "min    0.000000e+00  1.000000e+00  1.000000e+00  1.000000e+00   \n",
       "25%    8.552705e+05  8.552715e+05  5.139400e+04  5.000000e+00   \n",
       "50%    1.710541e+06  1.710542e+06  1.026890e+05  1.100000e+01   \n",
       "75%    2.565812e+06  2.565812e+06  1.543850e+05  2.300000e+01   \n",
       "max    3.421082e+06  3.421083e+06  2.062090e+05  1.000000e+02   \n",
       "\n",
       "       orders_day_of_week  order_hour_of_day  days_since_prior_order  \n",
       "count        3.421083e+06       3.421083e+06            3.214874e+06  \n",
       "mean         2.776219e+00       1.345202e+01            1.111484e+01  \n",
       "std          2.046829e+00       4.226088e+00            9.206737e+00  \n",
       "min          0.000000e+00       0.000000e+00            0.000000e+00  \n",
       "25%          1.000000e+00       1.000000e+01            4.000000e+00  \n",
       "50%          3.000000e+00       1.300000e+01            7.000000e+00  \n",
       "75%          5.000000e+00       1.600000e+01            1.500000e+01  \n",
       "max          6.000000e+00       2.300000e+01            3.000000e+01  "
      ]
     },
     "execution_count": 65,
     "metadata": {},
     "output_type": "execute_result"
    }
   ],
   "source": [
    "df_ords.describe()"
   ]
  },
  {
   "cell_type": "markdown",
   "id": "a50bbb7a-2ab6-4327-8310-4cbc304f5eb6",
   "metadata": {},
   "source": [
    "#### Missing Values: The days_since_prior_order count is less than others, indicating missing data. This impacts analysis, requiring imputation or exclusion.\n",
    "\n",
    "#### High order_number: The maximum order_number seems unusually large, suggesting a possible data entry error or an outlier that could skew analysis.\n",
    "\n",
    "#### Day Range: The orders_day_of_week range is 0-6, aligning with a standard programming convention for representing days, where Sunday might be 0 and Saturday 6.\n",
    "\n",
    "#### Hour Range: The order_hour_of_day range is 0-23, reflecting a 24-hour clock format, typical for time data."
   ]
  },
  {
   "cell_type": "markdown",
   "id": "6cf3c977-1a56-4b3e-8b76-6d8b89a577ce",
   "metadata": {},
   "source": [
    "### 3. Check df_ords for mixed type data"
   ]
  },
  {
   "cell_type": "code",
   "execution_count": 66,
   "id": "2fefecdc-6810-4824-b714-2be9835a5ad2",
   "metadata": {},
   "outputs": [
    {
     "name": "stdout",
     "output_type": "stream",
     "text": [
      "None of the columns have mix data\n"
     ]
    }
   ],
   "source": [
    "for col in df_ords.columns.tolist():\n",
    "    weird= (df_ords[[col]].map(type)!=df_ords[[col]].iloc[0].apply(type)).any(axis=1)\n",
    "    if len (df_ords[weird])>0:\n",
    "        print (col)\n",
    "else :\n",
    "    print (\"None of the columns have mix data\")"
   ]
  },
  {
   "cell_type": "markdown",
   "id": "e1a0c531-84f8-4b22-94b7-861e8c5420b7",
   "metadata": {},
   "source": [
    "#### No mixed-type data was found."
   ]
  },
  {
   "cell_type": "markdown",
   "id": "385e28d3-27d0-4729-9de7-27f96ce83172",
   "metadata": {},
   "source": [
    "### 5. Run a check for missing values in your df_ords dataframe."
   ]
  },
  {
   "cell_type": "code",
   "execution_count": 67,
   "id": "31459f77-eb0d-4851-a267-813d318f46cb",
   "metadata": {},
   "outputs": [
    {
     "data": {
      "text/plain": [
       "Unnamed: 0                     0\n",
       "order_id                       0\n",
       "user_id                        0\n",
       "order_number                   0\n",
       "orders_day_of_week             0\n",
       "order_hour_of_day              0\n",
       "days_since_prior_order    206209\n",
       "dtype: int64"
      ]
     },
     "execution_count": 67,
     "metadata": {},
     "output_type": "execute_result"
    }
   ],
   "source": [
    "df_ords.isnull().sum()"
   ]
  },
  {
   "cell_type": "markdown",
   "id": "0a4241c1-5e2a-41b4-8d53-12d26da1896d",
   "metadata": {},
   "source": [
    "#### The data shows missing values exclusively in the days_since_prior_order column, with exactly 206,209 instances lacking data. This suggests that many orders are first-time purchases or the dataset did not record the interval between orders for these instances. The absence of missing values in other columns indicates that the dataset is otherwise complete, highlighting a specific issue with tracking or recording the time between orders."
   ]
  },
  {
   "cell_type": "markdown",
   "id": "88abc20c-83ba-476f-8166-dcd2110393c9",
   "metadata": {},
   "source": [
    "### 6. Addressing appropriate method for missing value"
   ]
  },
  {
   "cell_type": "markdown",
   "id": "d46ba95b-0ec7-4b70-addf-ffef025e9d9d",
   "metadata": {},
   "source": [
    "#### Removing these missing values could eliminate valuable data on first-time orders. To address this without losing information:\n",
    "#### 1. Verify that the number of missing values matches the count of order_number=1, indicating first orders.\n",
    "#### 2. Add a new column to flag first orders as either True or False.\n",
    "#### Every user will have one NaN value for his/her first order.  Considering all these factors it has been decided to leave the missing data untouched."
   ]
  },
  {
   "cell_type": "code",
   "execution_count": 68,
   "id": "a9352a5b-7916-46c6-abb7-386256780ddf",
   "metadata": {},
   "outputs": [
    {
     "data": {
      "text/html": [
       "<div>\n",
       "<style scoped>\n",
       "    .dataframe tbody tr th:only-of-type {\n",
       "        vertical-align: middle;\n",
       "    }\n",
       "\n",
       "    .dataframe tbody tr th {\n",
       "        vertical-align: top;\n",
       "    }\n",
       "\n",
       "    .dataframe thead th {\n",
       "        text-align: right;\n",
       "    }\n",
       "</style>\n",
       "<table border=\"1\" class=\"dataframe\">\n",
       "  <thead>\n",
       "    <tr style=\"text-align: right;\">\n",
       "      <th></th>\n",
       "      <th>Unnamed: 0</th>\n",
       "      <th>order_id</th>\n",
       "      <th>user_id</th>\n",
       "      <th>order_number</th>\n",
       "      <th>orders_day_of_week</th>\n",
       "      <th>order_hour_of_day</th>\n",
       "      <th>days_since_prior_order</th>\n",
       "    </tr>\n",
       "  </thead>\n",
       "  <tbody>\n",
       "    <tr>\n",
       "      <th>0</th>\n",
       "      <td>0</td>\n",
       "      <td>2539329</td>\n",
       "      <td>1</td>\n",
       "      <td>1</td>\n",
       "      <td>2</td>\n",
       "      <td>8</td>\n",
       "      <td>NaN</td>\n",
       "    </tr>\n",
       "    <tr>\n",
       "      <th>11</th>\n",
       "      <td>11</td>\n",
       "      <td>2168274</td>\n",
       "      <td>2</td>\n",
       "      <td>1</td>\n",
       "      <td>2</td>\n",
       "      <td>11</td>\n",
       "      <td>NaN</td>\n",
       "    </tr>\n",
       "    <tr>\n",
       "      <th>26</th>\n",
       "      <td>26</td>\n",
       "      <td>1374495</td>\n",
       "      <td>3</td>\n",
       "      <td>1</td>\n",
       "      <td>1</td>\n",
       "      <td>14</td>\n",
       "      <td>NaN</td>\n",
       "    </tr>\n",
       "    <tr>\n",
       "      <th>39</th>\n",
       "      <td>39</td>\n",
       "      <td>3343014</td>\n",
       "      <td>4</td>\n",
       "      <td>1</td>\n",
       "      <td>6</td>\n",
       "      <td>11</td>\n",
       "      <td>NaN</td>\n",
       "    </tr>\n",
       "    <tr>\n",
       "      <th>45</th>\n",
       "      <td>45</td>\n",
       "      <td>2717275</td>\n",
       "      <td>5</td>\n",
       "      <td>1</td>\n",
       "      <td>3</td>\n",
       "      <td>12</td>\n",
       "      <td>NaN</td>\n",
       "    </tr>\n",
       "    <tr>\n",
       "      <th>...</th>\n",
       "      <td>...</td>\n",
       "      <td>...</td>\n",
       "      <td>...</td>\n",
       "      <td>...</td>\n",
       "      <td>...</td>\n",
       "      <td>...</td>\n",
       "      <td>...</td>\n",
       "    </tr>\n",
       "    <tr>\n",
       "      <th>3420930</th>\n",
       "      <td>3420930</td>\n",
       "      <td>969311</td>\n",
       "      <td>206205</td>\n",
       "      <td>1</td>\n",
       "      <td>4</td>\n",
       "      <td>12</td>\n",
       "      <td>NaN</td>\n",
       "    </tr>\n",
       "    <tr>\n",
       "      <th>3420934</th>\n",
       "      <td>3420934</td>\n",
       "      <td>3189322</td>\n",
       "      <td>206206</td>\n",
       "      <td>1</td>\n",
       "      <td>3</td>\n",
       "      <td>18</td>\n",
       "      <td>NaN</td>\n",
       "    </tr>\n",
       "    <tr>\n",
       "      <th>3421002</th>\n",
       "      <td>3421002</td>\n",
       "      <td>2166133</td>\n",
       "      <td>206207</td>\n",
       "      <td>1</td>\n",
       "      <td>6</td>\n",
       "      <td>19</td>\n",
       "      <td>NaN</td>\n",
       "    </tr>\n",
       "    <tr>\n",
       "      <th>3421019</th>\n",
       "      <td>3421019</td>\n",
       "      <td>2227043</td>\n",
       "      <td>206208</td>\n",
       "      <td>1</td>\n",
       "      <td>1</td>\n",
       "      <td>15</td>\n",
       "      <td>NaN</td>\n",
       "    </tr>\n",
       "    <tr>\n",
       "      <th>3421069</th>\n",
       "      <td>3421069</td>\n",
       "      <td>3154581</td>\n",
       "      <td>206209</td>\n",
       "      <td>1</td>\n",
       "      <td>3</td>\n",
       "      <td>11</td>\n",
       "      <td>NaN</td>\n",
       "    </tr>\n",
       "  </tbody>\n",
       "</table>\n",
       "<p>206209 rows × 7 columns</p>\n",
       "</div>"
      ],
      "text/plain": [
       "         Unnamed: 0  order_id  user_id  order_number  orders_day_of_week  \\\n",
       "0                 0   2539329        1             1                   2   \n",
       "11               11   2168274        2             1                   2   \n",
       "26               26   1374495        3             1                   1   \n",
       "39               39   3343014        4             1                   6   \n",
       "45               45   2717275        5             1                   3   \n",
       "...             ...       ...      ...           ...                 ...   \n",
       "3420930     3420930    969311   206205             1                   4   \n",
       "3420934     3420934   3189322   206206             1                   3   \n",
       "3421002     3421002   2166133   206207             1                   6   \n",
       "3421019     3421019   2227043   206208             1                   1   \n",
       "3421069     3421069   3154581   206209             1                   3   \n",
       "\n",
       "         order_hour_of_day  days_since_prior_order  \n",
       "0                        8                     NaN  \n",
       "11                      11                     NaN  \n",
       "26                      14                     NaN  \n",
       "39                      11                     NaN  \n",
       "45                      12                     NaN  \n",
       "...                    ...                     ...  \n",
       "3420930                 12                     NaN  \n",
       "3420934                 18                     NaN  \n",
       "3421002                 19                     NaN  \n",
       "3421019                 15                     NaN  \n",
       "3421069                 11                     NaN  \n",
       "\n",
       "[206209 rows x 7 columns]"
      ]
     },
     "execution_count": 68,
     "metadata": {},
     "output_type": "execute_result"
    }
   ],
   "source": [
    "# Create a subset containing only missing values\n",
    "df_nan = df_ords[df_ords['days_since_prior_order'].isnull() == True]\n",
    "df_nan"
   ]
  },
  {
   "cell_type": "code",
   "execution_count": 69,
   "id": "666c23c3-be75-4346-b011-79e90f04abca",
   "metadata": {},
   "outputs": [
    {
     "data": {
      "text/plain": [
       "order_number\n",
       "1    206209\n",
       "Name: count, dtype: int64"
      ]
     },
     "execution_count": 69,
     "metadata": {},
     "output_type": "execute_result"
    }
   ],
   "source": [
    "# Check the frequency of order_number=1 in df_nan\n",
    "df_nan['order_number'].value_counts()"
   ]
  },
  {
   "cell_type": "code",
   "execution_count": 70,
   "id": "1c6bc0ef-eaf9-4b2d-812f-b17f6b45d247",
   "metadata": {},
   "outputs": [],
   "source": [
    "# Create a function to determine if the order in question is a first order or not\n",
    "def is_first_order(row):\n",
    "    if row['order_number'] == 1:\n",
    "        return True\n",
    "    else:\n",
    "        return False"
   ]
  },
  {
   "cell_type": "code",
   "execution_count": 71,
   "id": "4ec2dbb4-13aa-44d4-9ceb-94fe445be36c",
   "metadata": {},
   "outputs": [
    {
     "data": {
      "text/plain": [
       "0           True\n",
       "1          False\n",
       "2          False\n",
       "3          False\n",
       "4          False\n",
       "           ...  \n",
       "3421078    False\n",
       "3421079    False\n",
       "3421080    False\n",
       "3421081    False\n",
       "3421082    False\n",
       "Length: 3421083, dtype: bool"
      ]
     },
     "execution_count": 71,
     "metadata": {},
     "output_type": "execute_result"
    }
   ],
   "source": [
    "# Apply the is_first_order function to every row of the df_ords dataframe\n",
    "df_ords.apply(lambda row: is_first_order(row), axis=1)"
   ]
  },
  {
   "cell_type": "code",
   "execution_count": 72,
   "id": "27a93917-43aa-4af0-8dc9-0341be119664",
   "metadata": {},
   "outputs": [],
   "source": [
    "# Create a new column in df_ords to flag the reason for missing values\n",
    "df_ords['first_order']=df_ords.apply(lambda row: is_first_order(row), axis=1)"
   ]
  },
  {
   "cell_type": "code",
   "execution_count": 73,
   "id": "0fc8f3da-32dd-4aed-bac7-245e06f2a237",
   "metadata": {},
   "outputs": [
    {
     "data": {
      "text/html": [
       "<div>\n",
       "<style scoped>\n",
       "    .dataframe tbody tr th:only-of-type {\n",
       "        vertical-align: middle;\n",
       "    }\n",
       "\n",
       "    .dataframe tbody tr th {\n",
       "        vertical-align: top;\n",
       "    }\n",
       "\n",
       "    .dataframe thead th {\n",
       "        text-align: right;\n",
       "    }\n",
       "</style>\n",
       "<table border=\"1\" class=\"dataframe\">\n",
       "  <thead>\n",
       "    <tr style=\"text-align: right;\">\n",
       "      <th></th>\n",
       "      <th>Unnamed: 0</th>\n",
       "      <th>order_id</th>\n",
       "      <th>user_id</th>\n",
       "      <th>order_number</th>\n",
       "      <th>orders_day_of_week</th>\n",
       "      <th>order_hour_of_day</th>\n",
       "      <th>days_since_prior_order</th>\n",
       "      <th>first_order</th>\n",
       "    </tr>\n",
       "  </thead>\n",
       "  <tbody>\n",
       "    <tr>\n",
       "      <th>0</th>\n",
       "      <td>0</td>\n",
       "      <td>2539329</td>\n",
       "      <td>1</td>\n",
       "      <td>1</td>\n",
       "      <td>2</td>\n",
       "      <td>8</td>\n",
       "      <td>NaN</td>\n",
       "      <td>True</td>\n",
       "    </tr>\n",
       "    <tr>\n",
       "      <th>1</th>\n",
       "      <td>1</td>\n",
       "      <td>2398795</td>\n",
       "      <td>1</td>\n",
       "      <td>2</td>\n",
       "      <td>3</td>\n",
       "      <td>7</td>\n",
       "      <td>15.0</td>\n",
       "      <td>False</td>\n",
       "    </tr>\n",
       "    <tr>\n",
       "      <th>2</th>\n",
       "      <td>2</td>\n",
       "      <td>473747</td>\n",
       "      <td>1</td>\n",
       "      <td>3</td>\n",
       "      <td>3</td>\n",
       "      <td>12</td>\n",
       "      <td>21.0</td>\n",
       "      <td>False</td>\n",
       "    </tr>\n",
       "    <tr>\n",
       "      <th>3</th>\n",
       "      <td>3</td>\n",
       "      <td>2254736</td>\n",
       "      <td>1</td>\n",
       "      <td>4</td>\n",
       "      <td>4</td>\n",
       "      <td>7</td>\n",
       "      <td>29.0</td>\n",
       "      <td>False</td>\n",
       "    </tr>\n",
       "    <tr>\n",
       "      <th>4</th>\n",
       "      <td>4</td>\n",
       "      <td>431534</td>\n",
       "      <td>1</td>\n",
       "      <td>5</td>\n",
       "      <td>4</td>\n",
       "      <td>15</td>\n",
       "      <td>28.0</td>\n",
       "      <td>False</td>\n",
       "    </tr>\n",
       "  </tbody>\n",
       "</table>\n",
       "</div>"
      ],
      "text/plain": [
       "   Unnamed: 0  order_id  user_id  order_number  orders_day_of_week  \\\n",
       "0           0   2539329        1             1                   2   \n",
       "1           1   2398795        1             2                   3   \n",
       "2           2    473747        1             3                   3   \n",
       "3           3   2254736        1             4                   4   \n",
       "4           4    431534        1             5                   4   \n",
       "\n",
       "   order_hour_of_day  days_since_prior_order  first_order  \n",
       "0                  8                     NaN         True  \n",
       "1                  7                    15.0        False  \n",
       "2                 12                    21.0        False  \n",
       "3                  7                    29.0        False  \n",
       "4                 15                    28.0        False  "
      ]
     },
     "execution_count": 73,
     "metadata": {},
     "output_type": "execute_result"
    }
   ],
   "source": [
    "df_ords.head()"
   ]
  },
  {
   "cell_type": "code",
   "execution_count": 74,
   "id": "e3078b34-9a03-4c7a-a546-f95a4c134c3b",
   "metadata": {},
   "outputs": [
    {
     "data": {
      "text/plain": [
       "first_order\n",
       "False    3214874\n",
       "True      206209\n",
       "Name: count, dtype: int64"
      ]
     },
     "execution_count": 74,
     "metadata": {},
     "output_type": "execute_result"
    }
   ],
   "source": [
    "# Final check for the frequency of first_order=True\n",
    "df_ords['first_order'].value_counts()"
   ]
  },
  {
   "cell_type": "markdown",
   "id": "9b286cc3-bd37-49eb-a772-5f2a8bc82adb",
   "metadata": {},
   "source": [
    "### 7. Running duplicate check for df_ords"
   ]
  },
  {
   "cell_type": "code",
   "execution_count": 85,
   "id": "8ccdf349-4dbd-4b29-9d36-e4233dbcb464",
   "metadata": {},
   "outputs": [
    {
     "data": {
      "text/html": [
       "<div>\n",
       "<style scoped>\n",
       "    .dataframe tbody tr th:only-of-type {\n",
       "        vertical-align: middle;\n",
       "    }\n",
       "\n",
       "    .dataframe tbody tr th {\n",
       "        vertical-align: top;\n",
       "    }\n",
       "\n",
       "    .dataframe thead th {\n",
       "        text-align: right;\n",
       "    }\n",
       "</style>\n",
       "<table border=\"1\" class=\"dataframe\">\n",
       "  <thead>\n",
       "    <tr style=\"text-align: right;\">\n",
       "      <th></th>\n",
       "      <th>Unnamed: 0</th>\n",
       "      <th>order_id</th>\n",
       "      <th>user_id</th>\n",
       "      <th>order_number</th>\n",
       "      <th>orders_day_of_week</th>\n",
       "      <th>order_hour_of_day</th>\n",
       "      <th>days_since_prior_order</th>\n",
       "    </tr>\n",
       "  </thead>\n",
       "  <tbody>\n",
       "  </tbody>\n",
       "</table>\n",
       "</div>"
      ],
      "text/plain": [
       "Empty DataFrame\n",
       "Columns: [Unnamed: 0, order_id, user_id, order_number, orders_day_of_week, order_hour_of_day, days_since_prior_order]\n",
       "Index: []"
      ]
     },
     "execution_count": 85,
     "metadata": {},
     "output_type": "execute_result"
    }
   ],
   "source": [
    "df_ords_dups = df_ords_clean[df_ords_clean.duplicated(keep=False)]\n",
    "df_ords_dups"
   ]
  },
  {
   "cell_type": "code",
   "execution_count": 86,
   "id": "31c8f020-20c0-4987-b224-e64d5d456e74",
   "metadata": {},
   "outputs": [
    {
     "data": {
      "text/plain": [
       "(0, 7)"
      ]
     },
     "execution_count": 86,
     "metadata": {},
     "output_type": "execute_result"
    }
   ],
   "source": [
    "df_ords_dups.shape"
   ]
  },
  {
   "cell_type": "markdown",
   "id": "022ec41b-ce43-4d78-a053-06983493459c",
   "metadata": {},
   "source": [
    "#### An empty df_ords_dups dataframe proves there are no duplicates. No action needed to remove duplicates."
   ]
  },
  {
   "cell_type": "markdown",
   "id": "401bdebc-7f48-49db-a6b1-f24e3bd187b6",
   "metadata": {},
   "source": [
    "# 0.5 Exporting dataframes"
   ]
  },
  {
   "cell_type": "code",
   "execution_count": 87,
   "id": "ad786aea-aee8-48f0-bb6c-8b9cf0cced53",
   "metadata": {},
   "outputs": [],
   "source": [
    "# Exporting df_prods_clean_no_dups dataframe as \"products_checked.csv\"\n",
    "df_prods_clean_no_dups.to_csv(os.path.join(path, '02 Data', 'Prepared Data', 'products_checked.csv'))"
   ]
  },
  {
   "cell_type": "code",
   "execution_count": 90,
   "id": "f6aef8af-24db-4cd8-8506-72eaede5edab",
   "metadata": {},
   "outputs": [],
   "source": [
    "# Exporting df_ords dataframe as \"orders_checked.csv\"\n",
    "df_ords.to_csv(os.path.join(path, '02 Data', 'Prepared Data', 'orders_checked.csv'))"
   ]
  }
 ],
 "metadata": {
  "kernelspec": {
   "display_name": "Python 3 (ipykernel)",
   "language": "python",
   "name": "python3"
  },
  "language_info": {
   "codemirror_mode": {
    "name": "ipython",
    "version": 3
   },
   "file_extension": ".py",
   "mimetype": "text/x-python",
   "name": "python",
   "nbconvert_exporter": "python",
   "pygments_lexer": "ipython3",
   "version": "3.11.7"
  }
 },
 "nbformat": 4,
 "nbformat_minor": 5
}
